











import pandas as pd
import matplotlib.pyplot as plt
import numpy as np
import seaborn as sns


df = pd.read_csv("Indian_Kids_Screen_Time.csv")


df.sample(5)


df.describe()


df.info()


print(df.shape)
print("-------------------------------------------------------------------------------------------------------------------")
df.isna().sum()


df.count()


df.head()





df.columns = df.columns.str.strip().str.replace(" ", "_")





df.isnull().sum()





duplicate = df.duplicated().sum()
print("number of duplicate row  :",duplicate)
print("original df shape  :", df.shape)
df = df.drop_duplicates()
print("after removing duplicates ",df.shape)





df.head()


df.loc[:,"Health_Impacts_list"] = (df["Health_Impacts"]
                                      .fillna('None')
                                      .apply(lambda x: [s.strip() for s in str(x).split(',')] 
                                             if x and str(x).strip().lower() != 'none' else [])
)
df_exploded = df.explode('Health_Impacts_list')


df.isnull().sum()


df.head(5)


df.head()





age_counts = df["Age"].value_counts().sort_index()
print(age_counts)
gender_counts = df["Gender"].value_counts().sort_index()
print(gender_counts)





#for age distribution
plt.figure(figsize=(5,3))
plt.bar(age_counts.index, age_counts.values, color="skyblue", edgecolor="black")
plt.title("Count by Age (8–18)/Age Distrubution")
plt.xlabel("Age")
plt.ylabel("Children")
plt.show()



#for gender distribution
plt.figure(figsize=(5,3))
plt.bar(gender_counts.index, gender_counts.values, color="skyblue", edgecolor="black")
plt.title("Count by Gender (8–18)/Gender Distrubution")
plt.xlabel("Gender")
plt.ylabel("Children")
plt.show()





df.head()


# --- Precompute means ---
age_mean = df.groupby("Age", as_index=False)["Avg_Daily_Screen_Time_hr"].mean()

# --- Plot ---
fig, ax1 = plt.subplots(figsize=(5,3))

# Histogram (Age distribution)
sns.histplot(data=df, x="Age", bins=11, discrete=True,
             color="#54c9f0", edgecolor="#223e47", alpha=0.4, ax=ax1)
ax1.set_ylabel("Number of Children", color="#19575e")
ax1.tick_params(axis='y', labelcolor="#19575e")

# Line plot (Mean screen time by Age)
ax2 = ax1.twinx()
sns.lineplot(data=age_mean, x="Age", y="Avg_Daily_Screen_Time_hr",
             color="#5f1eba", marker="o", linewidth=2, ax=ax2, label="Mean Screen Time")
ax2.set_ylabel("Avg Screen Time (hrs/day)", color="#5f1eba")
ax2.tick_params(axis='y', labelcolor="#260d47")

# Title + legend
plt.title("Age Distribution & Average Screen Time", fontsize=14, fontweight="bold", color="#528dd1")
ax2.legend(loc="upper right")

plt.tight_layout()
plt.show()






df.head()


gender_screen = df.groupby("Gender")["Avg_Daily_Screen_Time_hr"].agg(["mean","median","count"])
display(gender_screen.round(2))

# By age & gender
age_gender = df.groupby(["Age","Gender"])["Avg_Daily_Screen_Time_hr"].mean().unstack()
display(age_gender.round(2))

# Line for male and female
plt.figure(figsize=(5,3))
for g in age_gender.columns:
    plt.plot(age_gender.index, age_gender[g], marker="o", label=g)

# Add one line for all
plt.plot(
    age_mean["Age"], 
    age_mean["Avg_Daily_Screen_Time_hr"], 
    marker="o", color="black", linestyle="--", label="Overall Mean"
)

plt.title("Avg Screen Time by Age & Gender")
plt.xlabel("Age"); plt.ylabel("Hours/day")
plt.legend()
plt.show()






df.head()


loc_screen = df.groupby("Urban_or_Rural")["Avg_Daily_Screen_Time_hr"].agg(["mean","median","count"])
display(loc_screen.round(2))

print("---------------------------------------------------------------------------------------------------------------------------------")

# Device usage by location
loc_device = (df
    .pivot_table(index="Primary_Device", columns="Urban_or_Rural", values="Age", aggfunc="count", fill_value=0)
    .assign(Total=lambda x: x.sum(1))
    .sort_values("Total", ascending=False)
)
loc_device.loc["All Devices"] = loc_device.sum()
display(loc_device)
print(len(df))



plt.figure()

plt.figure(figsize=(5,3))
for g in loc_device.columns:
    plt.plot(loc_device.index, loc_device[g], marker="o", label=g)


plt.title("Urban/Rural screen time and device usage")
plt.xlabel("Primary_Device"); plt.ylabel("Number of devices")
plt.legend()
plt.show()








df.head()


device_counts = df["Primary_Device"].value_counts()
display(device_counts)


plt.figure(figsize=(5,3))
colors = plt.cm.viridis(np.linspace(0, 1, len(device_counts)))
#device_counts.plot(kind="bar", colors=col)
plt.bar(device_counts.index, device_counts.values, color=colors)
plt.title("Primary Device Popularity")
plt.xlabel("Device"); plt.ylabel("Children")
plt.show()





Device_by_age = (df
    .groupby(["Age","Primary_Device"])
    .size()
    .reset_index(name="count")
    .pivot(index="Age", columns="Primary_Device", values="count")
    .fillna(0)
)
display(Device_by_age.astype(int))

plt.figure(figsize=(5,3))
(Device_by_age.div(Device_by_age.sum(1), axis=0)).plot(kind="line", marker="o")
plt.title("Share of Primary Device by Age")
plt.xlabel("Age"); plt.ylabel("Share of children")
plt.legend(title="Device")
plt.show()






# Crosstab: devices vs gender
dev_gender = pd.crosstab(df["Primary_Device"], df["Gender"])
display(dev_gender)

# Convert to proportions by gender
dev_gender_prop = dev_gender.div(dev_gender.sum(axis=0), axis=1)

# Plot
ax = dev_gender_prop.T.plot(kind="bar", stacked=True, figsize=(8,6))
plt.title("Primary Device by Gender (Share)")
plt.xlabel("Gender")
plt.ylabel("Proportion")
plt.legend(title="Device", bbox_to_anchor=(1.05, 1), loc='upper left')
plt.tight_layout()
plt.show()








overall = df["Avg_Daily_Screen_Time_hr"].agg(["mean","median","std","min","max"])
display(overall.round(2))





df.head()


df.head()
print(df["Educational_to_Recreational_Ratio"].to_list)


# --- Reconstruct hours from ratio and total ---
df["educational_time_hrs"] = (df["Educational_to_Recreational_Ratio"] / (1 + df["Educational_to_Recreational_Ratio"])) * df["Avg_Daily_Screen_Time_hr"]
df["recreational_time_hrs"] = (1 / (1 + df["Educational_to_Recreational_Ratio"])) * df["Avg_Daily_Screen_Time_hr"]

# --- Summary statistics ---
edu_rec_stats = df[["educational_time_hrs", "recreational_time_hrs"]].agg(["mean","median","std","min","max"])
print("Educational vs Recreational Screen Time (hours/day):")
print(edu_rec_stats.round(2))

# --- Average comparison ---
avg_values = df[["educational_time_hrs", "recreational_time_hrs"]].mean()

plt.figure(figsize=(4,2))
avg_values.plot(kind="bar", color=["#4CAF50", "#FF5722"])
plt.title("Average Educational vs Recreational Screen Time")
plt.ylabel("Hours per Day")
plt.xticks(rotation=0)
plt.show()

# --- Distribution ---
plt.figure(figsize=(5,3))
sns.histplot(df["educational_time_hrs"], bins=30, alpha=0.6, label="Educational",kde=True ,color="#4CAF50")
sns.histplot(df["recreational_time_hrs"], bins=30, alpha=0.6, label="Recreational",kde=True, color="#FF5722")
plt.title("Distribution of Educational vs Recreational Screen Time")
plt.xlabel("Hours per Day")
plt.ylabel("Number of Children")
plt.legend()
plt.show()







rec_by_age = df.groupby("Age")["recreational_time_hrs"].mean()
display(rec_by_age.round(2))

plt.figure()
rec_by_age.plot(kind="line", marker="o")
# plt.plot(
#     age_mean["Age"], 
#     age_mean["Avg_Daily_Screen_Time_hr"], 
#     marker="o", color="black", linestyle="--", label="Overall Mean"
# )
plt.title("Average Recreational Time by Age")
plt.xlabel("Age"); plt.ylabel("Hours/day")
plt.show()






df.head()


# Overall proportion exceeding IAP guidelines
exceed_prop = df["Exceeded_Recommended_Limit"].mean()
print(f"Proportion exceeding IAP guidelines: {exceed_prop:.2%}")

# Proportion by age
exceed_by_age = df.groupby("Age")["Exceeded_Recommended_Limit"].mean()
display((exceed_by_age*100).round(1).astype(str) + "%")

# Plot
plt.figure()
exceed_by_age.plot(kind="bar", color="skyblue", edgecolor="black")
plt.title("Share Exceeding IAP Guidelines by Age")
plt.xlabel("Age")
plt.ylabel("% of children")
plt.show()






urb_rural = df.groupby("Urban_or_Rural")["Avg_Daily_Screen_Time_hr"].agg(["mean","median","count"])
display(urb_rural.round(2))

plt.figure(figsize=(5,3))
df.boxplot(column="Avg_Daily_Screen_Time_hr", by="Urban_or_Rural")
plt.title("Total Screen Time by Location")
plt.suptitle("")
plt.xlabel("Location"); plt.ylabel("Hours/day")
plt.show()



#violinplot is another kind of box plot. more width more data
plt.figure(figsize=(8,6))
sns.violinplot(
    x="Urban_or_Rural", 
    y="Avg_Daily_Screen_Time_hr", 
    data=df, 
    palette="Set2", 
    inner="box"  # shows a mini boxplot inside the violin
)

plt.title("Distribution of Total Screen Time by Location", fontsize=14)
plt.xlabel("Location")
plt.ylabel("Hours/day")
plt.show()









df.head()


print(df["Health_Impacts_list"])


# Ensure list-like values are parsed (if stored as strings in CSV)
# If it's already a Python list type, you can skip eval.
import ast

if df["Health_Impacts_list"].dtype == object:
    df["Health_Impacts_list"] = df["Health_Impacts_list"].apply(
        lambda x: ast.literal_eval(x) if isinstance(x, str) else x
    )

# Expand into separate boolean columns
df["poor_sleep"] = df["Health_Impacts_list"].apply(lambda x: "Poor Sleep" in x)
df["eye_strain"] = df["Health_Impacts_list"].apply(lambda x: "Eye Strain" in x)
df["anxiety"]    = df["Health_Impacts_list"].apply(lambda x: "Anxiety" in x)

# --- Prevalence ---
health_prev = pd.DataFrame({
    "poor_sleep": [df["poor_sleep"].mean()],
    "eye_strain": [df["eye_strain"].mean()],
    "anxiety":    [df["anxiety"].mean()]
}).T.rename(columns={0:"prevalence"})

health_prev["prevalence_%"] = (health_prev["prevalence"]*100).round(1)
print(health_prev)



df.head()





# Compare prevalence among exceeders vs non-exceeders
def health_table(col):
    return df.groupby("Exceeded_Recommended_Limit")[col].mean().rename(col)

ht = pd.concat([health_table("poor_sleep"),
                health_table("eye_strain"),
                health_table("anxiety")], axis=1)
ht.index = ht.index.map({False:"Within IAP", True:"Exceeds IAP"})
display((ht*100).round(1).astype(str) + "%")






# Risk difference by device controlling for size via proportions
by_device = df.groupby("Primary_Device")[["poor_sleep","eye_strain","anxiety"]].mean().sort_index()
display((by_device*100).round(1).astype(str) + "%")

plt.figure()
by_device.plot(kind="bar")
plt.title("Health Issue Prevalence by Primary Device")
plt.xlabel("Device"); plt.ylabel("Prevalence")
plt.show()






health_loc = df.groupby("Urban_or_Rural")[["poor_sleep","eye_strain","anxiety"]].mean()
display((health_loc*100).round(1).astype(str) + "%")






# Risk differences (percentage points)
rd = (df.groupby("Exceeded_Recommended_Limit")[["poor_sleep","eye_strain","anxiety"]]
        .mean().diff().loc[True]*100)
print("Risk difference (Exceeds - Within) in percentage points:")
display(rd.round(1))









corr_age = df[["Age","Avg_Daily_Screen_Time_hr"]].corr().loc["Age","Avg_Daily_Screen_Time_hr"]
print(f"Correlation (age vs total screen time): {corr_age:.3f}")






exceed_gender = df.groupby("Gender")["Exceeded_Recommended_Limit"].mean().sort_values(ascending=False)
display((exceed_gender*100).round(1).astype(str) + "%")

# By age & gender
exceed_age_gender = df.groupby(["Age","Gender"])["Exceeded_Recommended_Limit"].mean().unstack()
display((exceed_age_gender*100).round(1))






er_corr = df[["educational_time_hrs","recreational_time_hrs"]].corr().iloc[0,1]
print(f"Correlation (educational vs recreational): {er_corr:.3f}")

# Scatter (quick visual)
plt.figure()
plt.scatter(df["educational_time_hrs"], df["recreational_time_hrs"], alpha=0.5)
plt.title("Educational vs Recreational Time")
plt.xlabel("Educational (hrs/day)"); plt.ylabel("Recreational (hrs/day)")
plt.show()






from sklearn.preprocessing import StandardScaler
from sklearn.cluster import KMeans

X = df[["Avg_Daily_Screen_Time_hr","educational_time_hrs","recreational_time_hrs"]].dropna()
sc = StandardScaler()
Xs = sc.fit_transform(X)

# Try k=3 clusters as a starting point
km = KMeans(n_clusters=3, n_init=20, random_state=42)
labels = km.fit_predict(Xs)

Xc = X.copy()
Xc["cluster"] = labels

cluster_profiles = Xc.groupby("cluster").agg(["mean","median","count"])
display(cluster_profiles.round(2))

plt.figure()
plt.scatter(Xc["educational_time_hrs"], Xc["recreational_time_hrs"], c=Xc["cluster"], alpha=0.6)
plt.title("Clusters in Edu vs Rec Time")
plt.xlabel("Educational (hrs/day)"); plt.ylabel("Recreational (hrs/day)")
plt.show()






Age_Exeeded_limit = df.groupby('Age')['Exceeded_Recommended_Limit'].sum()
sns.regplot(x= Age_Exeeded_limit.index, y= Age_Exeeded_limit.values)

plt.xlabel('Age')
plt.ylabel("Exceeded limit count")
plt.title('Exceeded recommended limit by each age')

plt.show()



