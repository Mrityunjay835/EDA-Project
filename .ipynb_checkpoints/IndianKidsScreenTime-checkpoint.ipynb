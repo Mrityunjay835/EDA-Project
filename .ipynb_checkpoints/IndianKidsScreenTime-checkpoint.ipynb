{
 "cells": [
  {
   "cell_type": "markdown",
   "id": "62304b83-fc05-45f7-ab57-31e5054a1a49",
   "metadata": {},
   "source": [
    "# About Dataset\n",
    "This dataset simulates screen time patterns of 9712 Indian children aged 8 to 18 years, built using real-world trends and scientific \n",
    "studies conducted in India between 2023–2024. It combines urban and rural demographics, reflecting differences in device access, screen\n",
    "habits, and health outcomes.\n",
    "\n",
    "Screen time is broken down by:\n",
    "\n",
    "Age and gender\n",
    "\n",
    "Primary screen device (e.g., smartphone, TV)\n",
    "\n",
    "Time split between educational and recreational use\n",
    "\n",
    "Whether screen time exceeds Indian Academy of Pediatrics (IAP) guidelines\n",
    "\n",
    "Likely health impacts (e.g., poor sleep, eye strain, anxiety)\n",
    "\n",
    "📊 Background & Motivation\n",
    "In recent years, screen exposure among Indian children has surged, particularly post-COVID. Studies show:\n",
    "\n",
    "Adolescents average 4–5 hours/day on screens.\n",
    "\n",
    "Over 70% exceed the healthy recommended screen time.\n",
    "\n",
    "83% of rural teens report excessive usage.\n",
    "\n",
    "High screen time correlates with sleep problems, obesity risk, and anxiety.\n",
    "\n",
    "\n",
    "***https://www.kaggle.com/datasets/ankushpanday2/indian-kids-screentime-2025/data***"
   ]
  },
  {
   "cell_type": "markdown",
   "id": "3dce5a09-6834-4622-86fb-e630bf7c10a6",
   "metadata": {},
   "source": [
    "# Objective :\n",
    "\n",
    "The objective is to analyze demographic and behavioral factors influencing children’s screen time in India, assess compliance with health guidelines, and examine the relationship between screen exposure and health outcomes."
   ]
  },
  {
   "cell_type": "markdown",
   "id": "91c6ea29-93fb-4904-8fad-d2809e9338dc",
   "metadata": {},
   "source": [
    "# Task should be perform\n",
    "Import => Clean => Explore (uni, bi, multi-variate) => Compliance check => Health correlations => Insights > ML."
   ]
  },
  {
   "cell_type": "markdown",
   "id": "c6f52e17-96b9-41db-91ba-7cd9a745ce23",
   "metadata": {},
   "source": [
    "# 📊 Exploratory Data Analysis (EDA) Questions\n",
    "\n",
    "This section outlines the key questions we aim to answer during EDA of the dataset on **screen time patterns of Indian children (8–18 years)**.\n",
    "\n",
    "---\n",
    "\n",
    "## 📌 Demographics\n",
    "- What is the age and gender distribution of the children in the dataset?  \n",
    "- How does screen time vary across different age groups (8–18 years)?  \n",
    "- Are there noticeable differences in screen usage patterns between boys and girls?  \n",
    "- How do urban and rural children differ in terms of screen time and device usage?  \n",
    "\n",
    "---\n",
    "\n",
    "## 📌 Device Usage\n",
    "- Which is the most commonly used primary screen device (smartphone, TV, tablet, laptop)?  \n",
    "- How does device preference change with age (e.g., do younger kids use TV more, teens prefer smartphones)?  \n",
    "- Are there gender differences in preferred devices?  \n",
    "\n",
    "---\n",
    "\n",
    "## 📌 Screen Time Patterns\n",
    "- What is the average total screen time per day for all children?  \n",
    "- How much time is spent on educational vs. recreational activities?  \n",
    "- Does recreational screen time increase with age?  \n",
    "- What proportion of children exceed the IAP guidelines?  \n",
    "- Is there a significant difference in screen time between urban and rural areas?  \n",
    "\n",
    "---\n",
    "\n",
    "## 📌 Health Impacts\n",
    "- What percentage of children report poor sleep, eye strain, or anxiety?  \n",
    "- How do health issues correlate with excessive screen time?  \n",
    "- Which device is most strongly linked to health problems?  \n",
    "- Are rural children more affected by health issues compared to urban children?  \n",
    "- Does exceeding IAP guidelines significantly increase health risks?  \n",
    "\n",
    "---\n",
    "\n",
    "## 📌 Relationships & Trends\n",
    "- What is the correlation between total screen time and age?  \n",
    "- Is there a gender-based trend in exceeding IAP guidelines?  \n",
    "- How do educational and recreational times interact (e.g., does more educational time reduce recreational time)?  \n",
    "- Can we identify clusters of children (e.g., high recreational users vs. balanced users)?  \n"
   ]
  },
  {
   "cell_type": "code",
   "execution_count": 1,
   "id": "531bfe38-c70e-4aa0-9ca3-9a6061608fea",
   "metadata": {},
   "outputs": [],
   "source": [
    "import pandas as pd\n",
    "import matplotlib.pyplot as plt\n",
    "import numpy as np\n",
    "import seaborn as sns"
   ]
  },
  {
   "cell_type": "code",
   "execution_count": 2,
   "id": "d75bc864-d566-4266-8965-231c9f5106c9",
   "metadata": {},
   "outputs": [],
   "source": [
    "df = pd.read_csv(\"Indian_Kids_Screen_Time.csv\")"
   ]
  },
  {
   "cell_type": "code",
   "execution_count": 3,
   "id": "c53dd352-cf7c-42b4-a45b-45b9f437dd9e",
   "metadata": {},
   "outputs": [
    {
     "data": {
      "text/html": [
       "<div>\n",
       "<style scoped>\n",
       "    .dataframe tbody tr th:only-of-type {\n",
       "        vertical-align: middle;\n",
       "    }\n",
       "\n",
       "    .dataframe tbody tr th {\n",
       "        vertical-align: top;\n",
       "    }\n",
       "\n",
       "    .dataframe thead th {\n",
       "        text-align: right;\n",
       "    }\n",
       "</style>\n",
       "<table border=\"1\" class=\"dataframe\">\n",
       "  <thead>\n",
       "    <tr style=\"text-align: right;\">\n",
       "      <th></th>\n",
       "      <th>Age</th>\n",
       "      <th>Gender</th>\n",
       "      <th>Avg_Daily_Screen_Time_hr</th>\n",
       "      <th>Primary_Device</th>\n",
       "      <th>Exceeded_Recommended_Limit</th>\n",
       "      <th>Educational_to_Recreational_Ratio</th>\n",
       "      <th>Health_Impacts</th>\n",
       "      <th>Urban_or_Rural</th>\n",
       "    </tr>\n",
       "  </thead>\n",
       "  <tbody>\n",
       "    <tr>\n",
       "      <th>7753</th>\n",
       "      <td>12</td>\n",
       "      <td>Female</td>\n",
       "      <td>4.09</td>\n",
       "      <td>Smartphone</td>\n",
       "      <td>True</td>\n",
       "      <td>0.48</td>\n",
       "      <td>Eye Strain, Obesity Risk</td>\n",
       "      <td>Urban</td>\n",
       "    </tr>\n",
       "    <tr>\n",
       "      <th>9613</th>\n",
       "      <td>13</td>\n",
       "      <td>Female</td>\n",
       "      <td>3.51</td>\n",
       "      <td>Laptop</td>\n",
       "      <td>True</td>\n",
       "      <td>0.48</td>\n",
       "      <td>Poor Sleep, Eye Strain</td>\n",
       "      <td>Rural</td>\n",
       "    </tr>\n",
       "    <tr>\n",
       "      <th>2378</th>\n",
       "      <td>11</td>\n",
       "      <td>Male</td>\n",
       "      <td>3.42</td>\n",
       "      <td>TV</td>\n",
       "      <td>True</td>\n",
       "      <td>0.31</td>\n",
       "      <td>NaN</td>\n",
       "      <td>Rural</td>\n",
       "    </tr>\n",
       "    <tr>\n",
       "      <th>5777</th>\n",
       "      <td>11</td>\n",
       "      <td>Female</td>\n",
       "      <td>4.17</td>\n",
       "      <td>Smartphone</td>\n",
       "      <td>True</td>\n",
       "      <td>0.47</td>\n",
       "      <td>Poor Sleep, Eye Strain</td>\n",
       "      <td>Urban</td>\n",
       "    </tr>\n",
       "    <tr>\n",
       "      <th>1273</th>\n",
       "      <td>14</td>\n",
       "      <td>Female</td>\n",
       "      <td>1.43</td>\n",
       "      <td>Smartphone</td>\n",
       "      <td>False</td>\n",
       "      <td>0.39</td>\n",
       "      <td>NaN</td>\n",
       "      <td>Urban</td>\n",
       "    </tr>\n",
       "  </tbody>\n",
       "</table>\n",
       "</div>"
      ],
      "text/plain": [
       "      Age  Gender  Avg_Daily_Screen_Time_hr Primary_Device  \\\n",
       "7753   12  Female                      4.09     Smartphone   \n",
       "9613   13  Female                      3.51         Laptop   \n",
       "2378   11    Male                      3.42             TV   \n",
       "5777   11  Female                      4.17     Smartphone   \n",
       "1273   14  Female                      1.43     Smartphone   \n",
       "\n",
       "      Exceeded_Recommended_Limit  Educational_to_Recreational_Ratio  \\\n",
       "7753                        True                               0.48   \n",
       "9613                        True                               0.48   \n",
       "2378                        True                               0.31   \n",
       "5777                        True                               0.47   \n",
       "1273                       False                               0.39   \n",
       "\n",
       "                Health_Impacts Urban_or_Rural  \n",
       "7753  Eye Strain, Obesity Risk          Urban  \n",
       "9613    Poor Sleep, Eye Strain          Rural  \n",
       "2378                       NaN          Rural  \n",
       "5777    Poor Sleep, Eye Strain          Urban  \n",
       "1273                       NaN          Urban  "
      ]
     },
     "execution_count": 3,
     "metadata": {},
     "output_type": "execute_result"
    }
   ],
   "source": [
    "df.sample(5)"
   ]
  },
  {
   "cell_type": "code",
   "execution_count": 4,
   "id": "87a08ea1-a9ab-4fbd-bd32-5e50c3dca7a8",
   "metadata": {},
   "outputs": [
    {
     "data": {
      "text/html": [
       "<div>\n",
       "<style scoped>\n",
       "    .dataframe tbody tr th:only-of-type {\n",
       "        vertical-align: middle;\n",
       "    }\n",
       "\n",
       "    .dataframe tbody tr th {\n",
       "        vertical-align: top;\n",
       "    }\n",
       "\n",
       "    .dataframe thead th {\n",
       "        text-align: right;\n",
       "    }\n",
       "</style>\n",
       "<table border=\"1\" class=\"dataframe\">\n",
       "  <thead>\n",
       "    <tr style=\"text-align: right;\">\n",
       "      <th></th>\n",
       "      <th>Age</th>\n",
       "      <th>Avg_Daily_Screen_Time_hr</th>\n",
       "      <th>Educational_to_Recreational_Ratio</th>\n",
       "    </tr>\n",
       "  </thead>\n",
       "  <tbody>\n",
       "    <tr>\n",
       "      <th>count</th>\n",
       "      <td>9712.000000</td>\n",
       "      <td>9712.000000</td>\n",
       "      <td>9712.000000</td>\n",
       "    </tr>\n",
       "    <tr>\n",
       "      <th>mean</th>\n",
       "      <td>12.979201</td>\n",
       "      <td>4.352837</td>\n",
       "      <td>0.427226</td>\n",
       "    </tr>\n",
       "    <tr>\n",
       "      <th>std</th>\n",
       "      <td>3.162437</td>\n",
       "      <td>1.718232</td>\n",
       "      <td>0.073221</td>\n",
       "    </tr>\n",
       "    <tr>\n",
       "      <th>min</th>\n",
       "      <td>8.000000</td>\n",
       "      <td>0.000000</td>\n",
       "      <td>0.300000</td>\n",
       "    </tr>\n",
       "    <tr>\n",
       "      <th>25%</th>\n",
       "      <td>10.000000</td>\n",
       "      <td>3.410000</td>\n",
       "      <td>0.370000</td>\n",
       "    </tr>\n",
       "    <tr>\n",
       "      <th>50%</th>\n",
       "      <td>13.000000</td>\n",
       "      <td>4.440000</td>\n",
       "      <td>0.430000</td>\n",
       "    </tr>\n",
       "    <tr>\n",
       "      <th>75%</th>\n",
       "      <td>16.000000</td>\n",
       "      <td>5.380000</td>\n",
       "      <td>0.480000</td>\n",
       "    </tr>\n",
       "    <tr>\n",
       "      <th>max</th>\n",
       "      <td>18.000000</td>\n",
       "      <td>13.890000</td>\n",
       "      <td>0.600000</td>\n",
       "    </tr>\n",
       "  </tbody>\n",
       "</table>\n",
       "</div>"
      ],
      "text/plain": [
       "               Age  Avg_Daily_Screen_Time_hr  \\\n",
       "count  9712.000000               9712.000000   \n",
       "mean     12.979201                  4.352837   \n",
       "std       3.162437                  1.718232   \n",
       "min       8.000000                  0.000000   \n",
       "25%      10.000000                  3.410000   \n",
       "50%      13.000000                  4.440000   \n",
       "75%      16.000000                  5.380000   \n",
       "max      18.000000                 13.890000   \n",
       "\n",
       "       Educational_to_Recreational_Ratio  \n",
       "count                        9712.000000  \n",
       "mean                            0.427226  \n",
       "std                             0.073221  \n",
       "min                             0.300000  \n",
       "25%                             0.370000  \n",
       "50%                             0.430000  \n",
       "75%                             0.480000  \n",
       "max                             0.600000  "
      ]
     },
     "execution_count": 4,
     "metadata": {},
     "output_type": "execute_result"
    }
   ],
   "source": [
    "df.describe()"
   ]
  },
  {
   "cell_type": "code",
   "execution_count": 5,
   "id": "0b522428-ee3c-4a90-9a12-dc74b85680a6",
   "metadata": {},
   "outputs": [
    {
     "name": "stdout",
     "output_type": "stream",
     "text": [
      "<class 'pandas.core.frame.DataFrame'>\n",
      "RangeIndex: 9712 entries, 0 to 9711\n",
      "Data columns (total 8 columns):\n",
      " #   Column                             Non-Null Count  Dtype  \n",
      "---  ------                             --------------  -----  \n",
      " 0   Age                                9712 non-null   int64  \n",
      " 1   Gender                             9712 non-null   object \n",
      " 2   Avg_Daily_Screen_Time_hr           9712 non-null   float64\n",
      " 3   Primary_Device                     9712 non-null   object \n",
      " 4   Exceeded_Recommended_Limit         9712 non-null   bool   \n",
      " 5   Educational_to_Recreational_Ratio  9712 non-null   float64\n",
      " 6   Health_Impacts                     6494 non-null   object \n",
      " 7   Urban_or_Rural                     9712 non-null   object \n",
      "dtypes: bool(1), float64(2), int64(1), object(4)\n",
      "memory usage: 540.7+ KB\n"
     ]
    }
   ],
   "source": [
    "df.info()"
   ]
  },
  {
   "cell_type": "code",
   "execution_count": 6,
   "id": "69ca7da3-a96c-4861-a951-ac7a06682f7b",
   "metadata": {},
   "outputs": [
    {
     "name": "stdout",
     "output_type": "stream",
     "text": [
      "(9712, 8)\n",
      "-------------------------------------------------------------------------------------------------------------------\n"
     ]
    },
    {
     "data": {
      "text/plain": [
       "Age                                     0\n",
       "Gender                                  0\n",
       "Avg_Daily_Screen_Time_hr                0\n",
       "Primary_Device                          0\n",
       "Exceeded_Recommended_Limit              0\n",
       "Educational_to_Recreational_Ratio       0\n",
       "Health_Impacts                       3218\n",
       "Urban_or_Rural                          0\n",
       "dtype: int64"
      ]
     },
     "execution_count": 6,
     "metadata": {},
     "output_type": "execute_result"
    }
   ],
   "source": [
    "print(df.shape)\n",
    "print(\"-------------------------------------------------------------------------------------------------------------------\")\n",
    "df.isna().sum()"
   ]
  },
  {
   "cell_type": "code",
   "execution_count": 7,
   "id": "a5149af7-73a7-4390-a98d-64080464411b",
   "metadata": {},
   "outputs": [
    {
     "data": {
      "text/plain": [
       "Age                                  9712\n",
       "Gender                               9712\n",
       "Avg_Daily_Screen_Time_hr             9712\n",
       "Primary_Device                       9712\n",
       "Exceeded_Recommended_Limit           9712\n",
       "Educational_to_Recreational_Ratio    9712\n",
       "Health_Impacts                       6494\n",
       "Urban_or_Rural                       9712\n",
       "dtype: int64"
      ]
     },
     "execution_count": 7,
     "metadata": {},
     "output_type": "execute_result"
    }
   ],
   "source": [
    "df.count()"
   ]
  },
  {
   "cell_type": "code",
   "execution_count": 8,
   "id": "34b5a05b-48d9-4775-9380-d8c8ac3320ce",
   "metadata": {},
   "outputs": [
    {
     "data": {
      "text/html": [
       "<div>\n",
       "<style scoped>\n",
       "    .dataframe tbody tr th:only-of-type {\n",
       "        vertical-align: middle;\n",
       "    }\n",
       "\n",
       "    .dataframe tbody tr th {\n",
       "        vertical-align: top;\n",
       "    }\n",
       "\n",
       "    .dataframe thead th {\n",
       "        text-align: right;\n",
       "    }\n",
       "</style>\n",
       "<table border=\"1\" class=\"dataframe\">\n",
       "  <thead>\n",
       "    <tr style=\"text-align: right;\">\n",
       "      <th></th>\n",
       "      <th>Age</th>\n",
       "      <th>Gender</th>\n",
       "      <th>Avg_Daily_Screen_Time_hr</th>\n",
       "      <th>Primary_Device</th>\n",
       "      <th>Exceeded_Recommended_Limit</th>\n",
       "      <th>Educational_to_Recreational_Ratio</th>\n",
       "      <th>Health_Impacts</th>\n",
       "      <th>Urban_or_Rural</th>\n",
       "    </tr>\n",
       "  </thead>\n",
       "  <tbody>\n",
       "    <tr>\n",
       "      <th>0</th>\n",
       "      <td>14</td>\n",
       "      <td>Male</td>\n",
       "      <td>3.99</td>\n",
       "      <td>Smartphone</td>\n",
       "      <td>True</td>\n",
       "      <td>0.42</td>\n",
       "      <td>Poor Sleep, Eye Strain</td>\n",
       "      <td>Urban</td>\n",
       "    </tr>\n",
       "    <tr>\n",
       "      <th>1</th>\n",
       "      <td>11</td>\n",
       "      <td>Female</td>\n",
       "      <td>4.61</td>\n",
       "      <td>Laptop</td>\n",
       "      <td>True</td>\n",
       "      <td>0.30</td>\n",
       "      <td>Poor Sleep</td>\n",
       "      <td>Urban</td>\n",
       "    </tr>\n",
       "    <tr>\n",
       "      <th>2</th>\n",
       "      <td>18</td>\n",
       "      <td>Female</td>\n",
       "      <td>3.73</td>\n",
       "      <td>TV</td>\n",
       "      <td>True</td>\n",
       "      <td>0.32</td>\n",
       "      <td>Poor Sleep</td>\n",
       "      <td>Urban</td>\n",
       "    </tr>\n",
       "    <tr>\n",
       "      <th>3</th>\n",
       "      <td>15</td>\n",
       "      <td>Female</td>\n",
       "      <td>1.21</td>\n",
       "      <td>Laptop</td>\n",
       "      <td>False</td>\n",
       "      <td>0.39</td>\n",
       "      <td>NaN</td>\n",
       "      <td>Urban</td>\n",
       "    </tr>\n",
       "    <tr>\n",
       "      <th>4</th>\n",
       "      <td>12</td>\n",
       "      <td>Female</td>\n",
       "      <td>5.89</td>\n",
       "      <td>Smartphone</td>\n",
       "      <td>True</td>\n",
       "      <td>0.49</td>\n",
       "      <td>Poor Sleep, Anxiety</td>\n",
       "      <td>Urban</td>\n",
       "    </tr>\n",
       "  </tbody>\n",
       "</table>\n",
       "</div>"
      ],
      "text/plain": [
       "   Age  Gender  Avg_Daily_Screen_Time_hr Primary_Device  \\\n",
       "0   14    Male                      3.99     Smartphone   \n",
       "1   11  Female                      4.61         Laptop   \n",
       "2   18  Female                      3.73             TV   \n",
       "3   15  Female                      1.21         Laptop   \n",
       "4   12  Female                      5.89     Smartphone   \n",
       "\n",
       "   Exceeded_Recommended_Limit  Educational_to_Recreational_Ratio  \\\n",
       "0                        True                               0.42   \n",
       "1                        True                               0.30   \n",
       "2                        True                               0.32   \n",
       "3                       False                               0.39   \n",
       "4                        True                               0.49   \n",
       "\n",
       "           Health_Impacts Urban_or_Rural  \n",
       "0  Poor Sleep, Eye Strain          Urban  \n",
       "1              Poor Sleep          Urban  \n",
       "2              Poor Sleep          Urban  \n",
       "3                     NaN          Urban  \n",
       "4     Poor Sleep, Anxiety          Urban  "
      ]
     },
     "execution_count": 8,
     "metadata": {},
     "output_type": "execute_result"
    }
   ],
   "source": [
    "df.head()"
   ]
  },
  {
   "cell_type": "markdown",
   "id": "821bd9b2-7626-482d-8fcb-a20bef8d5541",
   "metadata": {},
   "source": [
    "# clean column"
   ]
  },
  {
   "cell_type": "code",
   "execution_count": 9,
   "id": "c7d94bad-a7c0-4ee5-9471-21b69296f335",
   "metadata": {},
   "outputs": [],
   "source": [
    "df.columns = df.columns.str.strip().str.replace(\" \", \"_\")"
   ]
  },
  {
   "cell_type": "markdown",
   "id": "8732cb4e-f557-460d-ae1d-3623810bb352",
   "metadata": {},
   "source": [
    "# handle null values"
   ]
  },
  {
   "cell_type": "code",
   "execution_count": 10,
   "id": "90669d30-1ef1-499e-b175-fb41d9c0db6e",
   "metadata": {},
   "outputs": [
    {
     "data": {
      "text/plain": [
       "Age                                     0\n",
       "Gender                                  0\n",
       "Avg_Daily_Screen_Time_hr                0\n",
       "Primary_Device                          0\n",
       "Exceeded_Recommended_Limit              0\n",
       "Educational_to_Recreational_Ratio       0\n",
       "Health_Impacts                       3218\n",
       "Urban_or_Rural                          0\n",
       "dtype: int64"
      ]
     },
     "execution_count": 10,
     "metadata": {},
     "output_type": "execute_result"
    }
   ],
   "source": [
    "df.isnull().sum()"
   ]
  },
  {
   "cell_type": "markdown",
   "id": "752650db-30ca-4b52-8d30-5deeacaaa893",
   "metadata": {},
   "source": [
    "# Identify and Remove Duplicates row."
   ]
  },
  {
   "cell_type": "code",
   "execution_count": 11,
   "id": "36180550-b50b-4678-8058-d4c122bf31ba",
   "metadata": {},
   "outputs": [
    {
     "name": "stdout",
     "output_type": "stream",
     "text": [
      "number of duplicate row  : 44\n",
      "original df shape  : (9712, 8)\n",
      "after removing duplicates  (9668, 8)\n"
     ]
    }
   ],
   "source": [
    "duplicate = df.duplicated().sum()\n",
    "print(\"number of duplicate row  :\",duplicate)\n",
    "print(\"original df shape  :\", df.shape)\n",
    "df = df.drop_duplicates()\n",
    "print(\"after removing duplicates \",df.shape)"
   ]
  },
  {
   "cell_type": "markdown",
   "id": "9bd96bb0-6a26-4f66-80ea-e679501d80cf",
   "metadata": {},
   "source": [
    "# multi-label categorical data preprocessing\n",
    "Column Health_Impacts contian multiple categorical data."
   ]
  },
  {
   "cell_type": "code",
   "execution_count": 12,
   "id": "61ca403a-dd5d-4c0b-a37c-135053021dd5",
   "metadata": {},
   "outputs": [
    {
     "data": {
      "text/html": [
       "<div>\n",
       "<style scoped>\n",
       "    .dataframe tbody tr th:only-of-type {\n",
       "        vertical-align: middle;\n",
       "    }\n",
       "\n",
       "    .dataframe tbody tr th {\n",
       "        vertical-align: top;\n",
       "    }\n",
       "\n",
       "    .dataframe thead th {\n",
       "        text-align: right;\n",
       "    }\n",
       "</style>\n",
       "<table border=\"1\" class=\"dataframe\">\n",
       "  <thead>\n",
       "    <tr style=\"text-align: right;\">\n",
       "      <th></th>\n",
       "      <th>Age</th>\n",
       "      <th>Gender</th>\n",
       "      <th>Avg_Daily_Screen_Time_hr</th>\n",
       "      <th>Primary_Device</th>\n",
       "      <th>Exceeded_Recommended_Limit</th>\n",
       "      <th>Educational_to_Recreational_Ratio</th>\n",
       "      <th>Health_Impacts</th>\n",
       "      <th>Urban_or_Rural</th>\n",
       "    </tr>\n",
       "  </thead>\n",
       "  <tbody>\n",
       "    <tr>\n",
       "      <th>0</th>\n",
       "      <td>14</td>\n",
       "      <td>Male</td>\n",
       "      <td>3.99</td>\n",
       "      <td>Smartphone</td>\n",
       "      <td>True</td>\n",
       "      <td>0.42</td>\n",
       "      <td>Poor Sleep, Eye Strain</td>\n",
       "      <td>Urban</td>\n",
       "    </tr>\n",
       "    <tr>\n",
       "      <th>1</th>\n",
       "      <td>11</td>\n",
       "      <td>Female</td>\n",
       "      <td>4.61</td>\n",
       "      <td>Laptop</td>\n",
       "      <td>True</td>\n",
       "      <td>0.30</td>\n",
       "      <td>Poor Sleep</td>\n",
       "      <td>Urban</td>\n",
       "    </tr>\n",
       "    <tr>\n",
       "      <th>2</th>\n",
       "      <td>18</td>\n",
       "      <td>Female</td>\n",
       "      <td>3.73</td>\n",
       "      <td>TV</td>\n",
       "      <td>True</td>\n",
       "      <td>0.32</td>\n",
       "      <td>Poor Sleep</td>\n",
       "      <td>Urban</td>\n",
       "    </tr>\n",
       "    <tr>\n",
       "      <th>3</th>\n",
       "      <td>15</td>\n",
       "      <td>Female</td>\n",
       "      <td>1.21</td>\n",
       "      <td>Laptop</td>\n",
       "      <td>False</td>\n",
       "      <td>0.39</td>\n",
       "      <td>NaN</td>\n",
       "      <td>Urban</td>\n",
       "    </tr>\n",
       "    <tr>\n",
       "      <th>4</th>\n",
       "      <td>12</td>\n",
       "      <td>Female</td>\n",
       "      <td>5.89</td>\n",
       "      <td>Smartphone</td>\n",
       "      <td>True</td>\n",
       "      <td>0.49</td>\n",
       "      <td>Poor Sleep, Anxiety</td>\n",
       "      <td>Urban</td>\n",
       "    </tr>\n",
       "  </tbody>\n",
       "</table>\n",
       "</div>"
      ],
      "text/plain": [
       "   Age  Gender  Avg_Daily_Screen_Time_hr Primary_Device  \\\n",
       "0   14    Male                      3.99     Smartphone   \n",
       "1   11  Female                      4.61         Laptop   \n",
       "2   18  Female                      3.73             TV   \n",
       "3   15  Female                      1.21         Laptop   \n",
       "4   12  Female                      5.89     Smartphone   \n",
       "\n",
       "   Exceeded_Recommended_Limit  Educational_to_Recreational_Ratio  \\\n",
       "0                        True                               0.42   \n",
       "1                        True                               0.30   \n",
       "2                        True                               0.32   \n",
       "3                       False                               0.39   \n",
       "4                        True                               0.49   \n",
       "\n",
       "           Health_Impacts Urban_or_Rural  \n",
       "0  Poor Sleep, Eye Strain          Urban  \n",
       "1              Poor Sleep          Urban  \n",
       "2              Poor Sleep          Urban  \n",
       "3                     NaN          Urban  \n",
       "4     Poor Sleep, Anxiety          Urban  "
      ]
     },
     "execution_count": 12,
     "metadata": {},
     "output_type": "execute_result"
    }
   ],
   "source": [
    "df.head()"
   ]
  },
  {
   "cell_type": "code",
   "execution_count": 13,
   "id": "fa1905d3-b124-42dc-a91a-f99f2cff535c",
   "metadata": {},
   "outputs": [],
   "source": [
    "df.loc[:,\"Health_Impacts_list\"] = (df[\"Health_Impacts\"]\n",
    "                                      .fillna('None')\n",
    "                                      .apply(lambda x: [s.strip() for s in str(x).split(',')] \n",
    "                                             if x and str(x).strip().lower() != 'none' else [])\n",
    ")\n",
    "df_exploded = df.explode('Health_Impacts_list')"
   ]
  },
  {
   "cell_type": "code",
   "execution_count": 14,
   "id": "c3158c4d-5f49-4a21-836f-a34c4abdb878",
   "metadata": {},
   "outputs": [
    {
     "data": {
      "text/plain": [
       "Age                                     0\n",
       "Gender                                  0\n",
       "Avg_Daily_Screen_Time_hr                0\n",
       "Primary_Device                          0\n",
       "Exceeded_Recommended_Limit              0\n",
       "Educational_to_Recreational_Ratio       0\n",
       "Health_Impacts                       3180\n",
       "Urban_or_Rural                          0\n",
       "Health_Impacts_list                     0\n",
       "dtype: int64"
      ]
     },
     "execution_count": 14,
     "metadata": {},
     "output_type": "execute_result"
    }
   ],
   "source": [
    "df.isnull().sum()"
   ]
  },
  {
   "cell_type": "code",
   "execution_count": 15,
   "id": "9f9f7aa4-598a-4fab-86d3-3b2eb1238f66",
   "metadata": {},
   "outputs": [
    {
     "data": {
      "text/html": [
       "<div>\n",
       "<style scoped>\n",
       "    .dataframe tbody tr th:only-of-type {\n",
       "        vertical-align: middle;\n",
       "    }\n",
       "\n",
       "    .dataframe tbody tr th {\n",
       "        vertical-align: top;\n",
       "    }\n",
       "\n",
       "    .dataframe thead th {\n",
       "        text-align: right;\n",
       "    }\n",
       "</style>\n",
       "<table border=\"1\" class=\"dataframe\">\n",
       "  <thead>\n",
       "    <tr style=\"text-align: right;\">\n",
       "      <th></th>\n",
       "      <th>Age</th>\n",
       "      <th>Gender</th>\n",
       "      <th>Avg_Daily_Screen_Time_hr</th>\n",
       "      <th>Primary_Device</th>\n",
       "      <th>Exceeded_Recommended_Limit</th>\n",
       "      <th>Educational_to_Recreational_Ratio</th>\n",
       "      <th>Health_Impacts</th>\n",
       "      <th>Urban_or_Rural</th>\n",
       "      <th>Health_Impacts_list</th>\n",
       "    </tr>\n",
       "  </thead>\n",
       "  <tbody>\n",
       "    <tr>\n",
       "      <th>0</th>\n",
       "      <td>14</td>\n",
       "      <td>Male</td>\n",
       "      <td>3.99</td>\n",
       "      <td>Smartphone</td>\n",
       "      <td>True</td>\n",
       "      <td>0.42</td>\n",
       "      <td>Poor Sleep, Eye Strain</td>\n",
       "      <td>Urban</td>\n",
       "      <td>[Poor Sleep, Eye Strain]</td>\n",
       "    </tr>\n",
       "    <tr>\n",
       "      <th>1</th>\n",
       "      <td>11</td>\n",
       "      <td>Female</td>\n",
       "      <td>4.61</td>\n",
       "      <td>Laptop</td>\n",
       "      <td>True</td>\n",
       "      <td>0.30</td>\n",
       "      <td>Poor Sleep</td>\n",
       "      <td>Urban</td>\n",
       "      <td>[Poor Sleep]</td>\n",
       "    </tr>\n",
       "    <tr>\n",
       "      <th>2</th>\n",
       "      <td>18</td>\n",
       "      <td>Female</td>\n",
       "      <td>3.73</td>\n",
       "      <td>TV</td>\n",
       "      <td>True</td>\n",
       "      <td>0.32</td>\n",
       "      <td>Poor Sleep</td>\n",
       "      <td>Urban</td>\n",
       "      <td>[Poor Sleep]</td>\n",
       "    </tr>\n",
       "    <tr>\n",
       "      <th>3</th>\n",
       "      <td>15</td>\n",
       "      <td>Female</td>\n",
       "      <td>1.21</td>\n",
       "      <td>Laptop</td>\n",
       "      <td>False</td>\n",
       "      <td>0.39</td>\n",
       "      <td>NaN</td>\n",
       "      <td>Urban</td>\n",
       "      <td>[]</td>\n",
       "    </tr>\n",
       "    <tr>\n",
       "      <th>4</th>\n",
       "      <td>12</td>\n",
       "      <td>Female</td>\n",
       "      <td>5.89</td>\n",
       "      <td>Smartphone</td>\n",
       "      <td>True</td>\n",
       "      <td>0.49</td>\n",
       "      <td>Poor Sleep, Anxiety</td>\n",
       "      <td>Urban</td>\n",
       "      <td>[Poor Sleep, Anxiety]</td>\n",
       "    </tr>\n",
       "  </tbody>\n",
       "</table>\n",
       "</div>"
      ],
      "text/plain": [
       "   Age  Gender  Avg_Daily_Screen_Time_hr Primary_Device  \\\n",
       "0   14    Male                      3.99     Smartphone   \n",
       "1   11  Female                      4.61         Laptop   \n",
       "2   18  Female                      3.73             TV   \n",
       "3   15  Female                      1.21         Laptop   \n",
       "4   12  Female                      5.89     Smartphone   \n",
       "\n",
       "   Exceeded_Recommended_Limit  Educational_to_Recreational_Ratio  \\\n",
       "0                        True                               0.42   \n",
       "1                        True                               0.30   \n",
       "2                        True                               0.32   \n",
       "3                       False                               0.39   \n",
       "4                        True                               0.49   \n",
       "\n",
       "           Health_Impacts Urban_or_Rural       Health_Impacts_list  \n",
       "0  Poor Sleep, Eye Strain          Urban  [Poor Sleep, Eye Strain]  \n",
       "1              Poor Sleep          Urban              [Poor Sleep]  \n",
       "2              Poor Sleep          Urban              [Poor Sleep]  \n",
       "3                     NaN          Urban                        []  \n",
       "4     Poor Sleep, Anxiety          Urban     [Poor Sleep, Anxiety]  "
      ]
     },
     "execution_count": 15,
     "metadata": {},
     "output_type": "execute_result"
    }
   ],
   "source": [
    "df.head(5)"
   ]
  },
  {
   "cell_type": "code",
   "execution_count": 16,
   "id": "5e0dd4fe-c5a8-4e65-bcd0-667688d1e02e",
   "metadata": {},
   "outputs": [
    {
     "data": {
      "text/html": [
       "<div>\n",
       "<style scoped>\n",
       "    .dataframe tbody tr th:only-of-type {\n",
       "        vertical-align: middle;\n",
       "    }\n",
       "\n",
       "    .dataframe tbody tr th {\n",
       "        vertical-align: top;\n",
       "    }\n",
       "\n",
       "    .dataframe thead th {\n",
       "        text-align: right;\n",
       "    }\n",
       "</style>\n",
       "<table border=\"1\" class=\"dataframe\">\n",
       "  <thead>\n",
       "    <tr style=\"text-align: right;\">\n",
       "      <th></th>\n",
       "      <th>Age</th>\n",
       "      <th>Gender</th>\n",
       "      <th>Avg_Daily_Screen_Time_hr</th>\n",
       "      <th>Primary_Device</th>\n",
       "      <th>Exceeded_Recommended_Limit</th>\n",
       "      <th>Educational_to_Recreational_Ratio</th>\n",
       "      <th>Health_Impacts</th>\n",
       "      <th>Urban_or_Rural</th>\n",
       "      <th>Health_Impacts_list</th>\n",
       "    </tr>\n",
       "  </thead>\n",
       "  <tbody>\n",
       "    <tr>\n",
       "      <th>0</th>\n",
       "      <td>14</td>\n",
       "      <td>Male</td>\n",
       "      <td>3.99</td>\n",
       "      <td>Smartphone</td>\n",
       "      <td>True</td>\n",
       "      <td>0.42</td>\n",
       "      <td>Poor Sleep, Eye Strain</td>\n",
       "      <td>Urban</td>\n",
       "      <td>[Poor Sleep, Eye Strain]</td>\n",
       "    </tr>\n",
       "    <tr>\n",
       "      <th>1</th>\n",
       "      <td>11</td>\n",
       "      <td>Female</td>\n",
       "      <td>4.61</td>\n",
       "      <td>Laptop</td>\n",
       "      <td>True</td>\n",
       "      <td>0.30</td>\n",
       "      <td>Poor Sleep</td>\n",
       "      <td>Urban</td>\n",
       "      <td>[Poor Sleep]</td>\n",
       "    </tr>\n",
       "    <tr>\n",
       "      <th>2</th>\n",
       "      <td>18</td>\n",
       "      <td>Female</td>\n",
       "      <td>3.73</td>\n",
       "      <td>TV</td>\n",
       "      <td>True</td>\n",
       "      <td>0.32</td>\n",
       "      <td>Poor Sleep</td>\n",
       "      <td>Urban</td>\n",
       "      <td>[Poor Sleep]</td>\n",
       "    </tr>\n",
       "    <tr>\n",
       "      <th>3</th>\n",
       "      <td>15</td>\n",
       "      <td>Female</td>\n",
       "      <td>1.21</td>\n",
       "      <td>Laptop</td>\n",
       "      <td>False</td>\n",
       "      <td>0.39</td>\n",
       "      <td>NaN</td>\n",
       "      <td>Urban</td>\n",
       "      <td>[]</td>\n",
       "    </tr>\n",
       "    <tr>\n",
       "      <th>4</th>\n",
       "      <td>12</td>\n",
       "      <td>Female</td>\n",
       "      <td>5.89</td>\n",
       "      <td>Smartphone</td>\n",
       "      <td>True</td>\n",
       "      <td>0.49</td>\n",
       "      <td>Poor Sleep, Anxiety</td>\n",
       "      <td>Urban</td>\n",
       "      <td>[Poor Sleep, Anxiety]</td>\n",
       "    </tr>\n",
       "  </tbody>\n",
       "</table>\n",
       "</div>"
      ],
      "text/plain": [
       "   Age  Gender  Avg_Daily_Screen_Time_hr Primary_Device  \\\n",
       "0   14    Male                      3.99     Smartphone   \n",
       "1   11  Female                      4.61         Laptop   \n",
       "2   18  Female                      3.73             TV   \n",
       "3   15  Female                      1.21         Laptop   \n",
       "4   12  Female                      5.89     Smartphone   \n",
       "\n",
       "   Exceeded_Recommended_Limit  Educational_to_Recreational_Ratio  \\\n",
       "0                        True                               0.42   \n",
       "1                        True                               0.30   \n",
       "2                        True                               0.32   \n",
       "3                       False                               0.39   \n",
       "4                        True                               0.49   \n",
       "\n",
       "           Health_Impacts Urban_or_Rural       Health_Impacts_list  \n",
       "0  Poor Sleep, Eye Strain          Urban  [Poor Sleep, Eye Strain]  \n",
       "1              Poor Sleep          Urban              [Poor Sleep]  \n",
       "2              Poor Sleep          Urban              [Poor Sleep]  \n",
       "3                     NaN          Urban                        []  \n",
       "4     Poor Sleep, Anxiety          Urban     [Poor Sleep, Anxiety]  "
      ]
     },
     "execution_count": 16,
     "metadata": {},
     "output_type": "execute_result"
    }
   ],
   "source": [
    "df.head()"
   ]
  },
  {
   "cell_type": "markdown",
   "id": "75bc143c-a0e8-45dd-bee0-81bb0310f8fc",
   "metadata": {},
   "source": [
    "# EDA \n",
    "## Demographics\n",
    "***💡 1.a - What is the age and gender distribution of the children in the dataset?***"
   ]
  },
  {
   "cell_type": "code",
   "execution_count": 17,
   "id": "3764c459-52a4-4042-ba00-b5c746c38c5b",
   "metadata": {},
   "outputs": [
    {
     "name": "stdout",
     "output_type": "stream",
     "text": [
      "Age\n",
      "8     900\n",
      "9     875\n",
      "10    863\n",
      "11    863\n",
      "12    867\n",
      "13    910\n",
      "14    895\n",
      "15    864\n",
      "16    874\n",
      "17    918\n",
      "18    839\n",
      "Name: count, dtype: int64\n",
      "Gender\n",
      "Female    4740\n",
      "Male      4928\n",
      "Name: count, dtype: int64\n"
     ]
    }
   ],
   "source": [
    "age_counts = df[\"Age\"].value_counts().sort_index()\n",
    "print(age_counts)\n",
    "gender_counts = df[\"Gender\"].value_counts().sort_index()\n",
    "print(gender_counts)"
   ]
  },
  {
   "cell_type": "markdown",
   "id": "7552d20b-d665-4162-b349-4b85d8a816b0",
   "metadata": {},
   "source": [
    "We can "
   ]
  },
  {
   "cell_type": "code",
   "execution_count": 18,
   "id": "c6649283-edc0-42ed-b7f3-fb5b1d79dcbb",
   "metadata": {
    "scrolled": true
   },
   "outputs": [
    {
     "data": {
      "image/png": "[encoded data removed]",
      "text/plain": [
       "<Figure size 500x300 with 1 Axes>"
      ]
     },
     "metadata": {},
     "output_type": "display_data"
    }
   ],
   "source": [
    "#for age distribution\n",
    "plt.figure(figsize=(5,3))\n",
    "plt.bar(age_counts.index, age_counts.values, color=\"skyblue\", edgecolor=\"black\")\n",
    "plt.title(\"Count by Age (8–18)/Age Distrubution\")\n",
    "plt.xlabel(\"Age\")\n",
    "plt.ylabel(\"Children\")\n",
    "plt.show()\n"
   ]
  },
  {
   "cell_type": "code",
   "execution_count": 19,
   "id": "4b8e41e7-8a47-4fad-aad2-c757ae292f75",
   "metadata": {},
   "outputs": [
    {
     "data": {
      "image/png": "[encoded data removed]",
      "text/plain": [
       "<Figure size 500x300 with 1 Axes>"
      ]
     },
     "metadata": {},
     "output_type": "display_data"
    }
   ],
   "source": [
    "#for gender distribution\n",
    "plt.figure(figsize=(5,3))\n",
    "plt.bar(gender_counts.index, gender_counts.values, color=\"skyblue\", edgecolor=\"black\")\n",
    "plt.title(\"Count by Gender (8–18)/Gender Distrubution\")\n",
    "plt.xlabel(\"Gender\")\n",
    "plt.ylabel(\"Children\")\n",
    "plt.show()"
   ]
  },
  {
   "cell_type": "markdown",
   "id": "ee98d217-ede1-4d8b-9275-a83df0f4427b",
   "metadata": {},
   "source": [
    "***💡 1.b How does screen time vary across different age groups (8–18 years)?***"
   ]
  },
  {
   "cell_type": "code",
   "execution_count": 20,
   "id": "6e9f88ae-e192-49b5-b1eb-a53476c45b59",
   "metadata": {},
   "outputs": [
    {
     "data": {
      "text/html": [
       "<div>\n",
       "<style scoped>\n",
       "    .dataframe tbody tr th:only-of-type {\n",
       "        vertical-align: middle;\n",
       "    }\n",
       "\n",
       "    .dataframe tbody tr th {\n",
       "        vertical-align: top;\n",
       "    }\n",
       "\n",
       "    .dataframe thead th {\n",
       "        text-align: right;\n",
       "    }\n",
       "</style>\n",
       "<table border=\"1\" class=\"dataframe\">\n",
       "  <thead>\n",
       "    <tr style=\"text-align: right;\">\n",
       "      <th></th>\n",
       "      <th>Age</th>\n",
       "      <th>Gender</th>\n",
       "      <th>Avg_Daily_Screen_Time_hr</th>\n",
       "      <th>Primary_Device</th>\n",
       "      <th>Exceeded_Recommended_Limit</th>\n",
       "      <th>Educational_to_Recreational_Ratio</th>\n",
       "      <th>Health_Impacts</th>\n",
       "      <th>Urban_or_Rural</th>\n",
       "      <th>Health_Impacts_list</th>\n",
       "    </tr>\n",
       "  </thead>\n",
       "  <tbody>\n",
       "    <tr>\n",
       "      <th>0</th>\n",
       "      <td>14</td>\n",
       "      <td>Male</td>\n",
       "      <td>3.99</td>\n",
       "      <td>Smartphone</td>\n",
       "      <td>True</td>\n",
       "      <td>0.42</td>\n",
       "      <td>Poor Sleep, Eye Strain</td>\n",
       "      <td>Urban</td>\n",
       "      <td>[Poor Sleep, Eye Strain]</td>\n",
       "    </tr>\n",
       "    <tr>\n",
       "      <th>1</th>\n",
       "      <td>11</td>\n",
       "      <td>Female</td>\n",
       "      <td>4.61</td>\n",
       "      <td>Laptop</td>\n",
       "      <td>True</td>\n",
       "      <td>0.30</td>\n",
       "      <td>Poor Sleep</td>\n",
       "      <td>Urban</td>\n",
       "      <td>[Poor Sleep]</td>\n",
       "    </tr>\n",
       "    <tr>\n",
       "      <th>2</th>\n",
       "      <td>18</td>\n",
       "      <td>Female</td>\n",
       "      <td>3.73</td>\n",
       "      <td>TV</td>\n",
       "      <td>True</td>\n",
       "      <td>0.32</td>\n",
       "      <td>Poor Sleep</td>\n",
       "      <td>Urban</td>\n",
       "      <td>[Poor Sleep]</td>\n",
       "    </tr>\n",
       "    <tr>\n",
       "      <th>3</th>\n",
       "      <td>15</td>\n",
       "      <td>Female</td>\n",
       "      <td>1.21</td>\n",
       "      <td>Laptop</td>\n",
       "      <td>False</td>\n",
       "      <td>0.39</td>\n",
       "      <td>NaN</td>\n",
       "      <td>Urban</td>\n",
       "      <td>[]</td>\n",
       "    </tr>\n",
       "    <tr>\n",
       "      <th>4</th>\n",
       "      <td>12</td>\n",
       "      <td>Female</td>\n",
       "      <td>5.89</td>\n",
       "      <td>Smartphone</td>\n",
       "      <td>True</td>\n",
       "      <td>0.49</td>\n",
       "      <td>Poor Sleep, Anxiety</td>\n",
       "      <td>Urban</td>\n",
       "      <td>[Poor Sleep, Anxiety]</td>\n",
       "    </tr>\n",
       "  </tbody>\n",
       "</table>\n",
       "</div>"
      ],
      "text/plain": [
       "   Age  Gender  Avg_Daily_Screen_Time_hr Primary_Device  \\\n",
       "0   14    Male                      3.99     Smartphone   \n",
       "1   11  Female                      4.61         Laptop   \n",
       "2   18  Female                      3.73             TV   \n",
       "3   15  Female                      1.21         Laptop   \n",
       "4   12  Female                      5.89     Smartphone   \n",
       "\n",
       "   Exceeded_Recommended_Limit  Educational_to_Recreational_Ratio  \\\n",
       "0                        True                               0.42   \n",
       "1                        True                               0.30   \n",
       "2                        True                               0.32   \n",
       "3                       False                               0.39   \n",
       "4                        True                               0.49   \n",
       "\n",
       "           Health_Impacts Urban_or_Rural       Health_Impacts_list  \n",
       "0  Poor Sleep, Eye Strain          Urban  [Poor Sleep, Eye Strain]  \n",
       "1              Poor Sleep          Urban              [Poor Sleep]  \n",
       "2              Poor Sleep          Urban              [Poor Sleep]  \n",
       "3                     NaN          Urban                        []  \n",
       "4     Poor Sleep, Anxiety          Urban     [Poor Sleep, Anxiety]  "
      ]
     },
     "execution_count": 20,
     "metadata": {},
     "output_type": "execute_result"
    }
   ],
   "source": [
    "df.head()"
   ]
  },
  {
   "cell_type": "code",
   "execution_count": 21,
   "id": "2800dd13-7596-42ea-acb1-896d252562df",
   "metadata": {},
   "outputs": [
    {
     "name": "stderr",
     "output_type": "stream",
     "text": [
      "/home/mrityunjay-kumar/anaconda3/lib/python3.11/site-packages/seaborn/_oldcore.py:1119: FutureWarning: use_inf_as_na option is deprecated and will be removed in a future version. Convert inf values to NaN before operating instead.\n",
      "  with pd.option_context('mode.use_inf_as_na', True):\n",
      "/home/mrityunjay-kumar/anaconda3/lib/python3.11/site-packages/seaborn/_oldcore.py:1119: FutureWarning: use_inf_as_na option is deprecated and will be removed in a future version. Convert inf values to NaN before operating instead.\n",
      "  with pd.option_context('mode.use_inf_as_na', True):\n",
      "/home/mrityunjay-kumar/anaconda3/lib/python3.11/site-packages/seaborn/_oldcore.py:1119: FutureWarning: use_inf_as_na option is deprecated and will be removed in a future version. Convert inf values to NaN before operating instead.\n",
      "  with pd.option_context('mode.use_inf_as_na', True):\n"
     ]
    },
    {
     "data": {
      "image/png": "[encoded data removed]",
      "text/plain": [
       "<Figure size 500x300 with 2 Axes>"
      ]
     },
     "metadata": {},
     "output_type": "display_data"
    }
   ],
   "source": [
    "# --- Precompute means ---\n",
    "age_mean = df.groupby(\"Age\", as_index=False)[\"Avg_Daily_Screen_Time_hr\"].mean()\n",
    "\n",
    "# --- Plot ---\n",
    "fig, ax1 = plt.subplots(figsize=(5,3))\n",
    "\n",
    "# Histogram (Age distribution)\n",
    "sns.histplot(data=df, x=\"Age\", bins=11, discrete=True,\n",
    "             color=\"#54c9f0\", edgecolor=\"#223e47\", alpha=0.4, ax=ax1)\n",
    "ax1.set_ylabel(\"Number of Children\", color=\"#19575e\")\n",
    "ax1.tick_params(axis='y', labelcolor=\"#19575e\")\n",
    "\n",
    "# Line plot (Mean screen time by Age)\n",
    "ax2 = ax1.twinx()\n",
    "sns.lineplot(data=age_mean, x=\"Age\", y=\"Avg_Daily_Screen_Time_hr\",\n",
    "             color=\"#5f1eba\", marker=\"o\", linewidth=2, ax=ax2, label=\"Mean Screen Time\")\n",
    "ax2.set_ylabel(\"Avg Screen Time (hrs/day)\", color=\"#5f1eba\")\n",
    "ax2.tick_params(axis='y', labelcolor=\"#260d47\")\n",
    "\n",
    "# Title + legend\n",
    "plt.title(\"Age Distribution & Average Screen Time\", fontsize=14, fontweight=\"bold\", color=\"#528dd1\")\n",
    "ax2.legend(loc=\"upper right\")\n",
    "\n",
    "plt.tight_layout()\n",
    "plt.show()\n"
   ]
  },
  {
   "cell_type": "markdown",
   "id": "fb747a6c-2697-4674-b059-b7e8d318d442",
   "metadata": {},
   "source": [
    "***💡 1.c Are there noticeable differences in screen usage patterns between boys and girls?***"
   ]
  },
  {
   "cell_type": "code",
   "execution_count": 22,
   "id": "c5b6ece9-9d2b-4b2d-bd1d-fc662eb6d6fc",
   "metadata": {},
   "outputs": [
    {
     "data": {
      "text/html": [
       "<div>\n",
       "<style scoped>\n",
       "    .dataframe tbody tr th:only-of-type {\n",
       "        vertical-align: middle;\n",
       "    }\n",
       "\n",
       "    .dataframe tbody tr th {\n",
       "        vertical-align: top;\n",
       "    }\n",
       "\n",
       "    .dataframe thead th {\n",
       "        text-align: right;\n",
       "    }\n",
       "</style>\n",
       "<table border=\"1\" class=\"dataframe\">\n",
       "  <thead>\n",
       "    <tr style=\"text-align: right;\">\n",
       "      <th></th>\n",
       "      <th>Age</th>\n",
       "      <th>Gender</th>\n",
       "      <th>Avg_Daily_Screen_Time_hr</th>\n",
       "      <th>Primary_Device</th>\n",
       "      <th>Exceeded_Recommended_Limit</th>\n",
       "      <th>Educational_to_Recreational_Ratio</th>\n",
       "      <th>Health_Impacts</th>\n",
       "      <th>Urban_or_Rural</th>\n",
       "      <th>Health_Impacts_list</th>\n",
       "    </tr>\n",
       "  </thead>\n",
       "  <tbody>\n",
       "    <tr>\n",
       "      <th>0</th>\n",
       "      <td>14</td>\n",
       "      <td>Male</td>\n",
       "      <td>3.99</td>\n",
       "      <td>Smartphone</td>\n",
       "      <td>True</td>\n",
       "      <td>0.42</td>\n",
       "      <td>Poor Sleep, Eye Strain</td>\n",
       "      <td>Urban</td>\n",
       "      <td>[Poor Sleep, Eye Strain]</td>\n",
       "    </tr>\n",
       "    <tr>\n",
       "      <th>1</th>\n",
       "      <td>11</td>\n",
       "      <td>Female</td>\n",
       "      <td>4.61</td>\n",
       "      <td>Laptop</td>\n",
       "      <td>True</td>\n",
       "      <td>0.30</td>\n",
       "      <td>Poor Sleep</td>\n",
       "      <td>Urban</td>\n",
       "      <td>[Poor Sleep]</td>\n",
       "    </tr>\n",
       "    <tr>\n",
       "      <th>2</th>\n",
       "      <td>18</td>\n",
       "      <td>Female</td>\n",
       "      <td>3.73</td>\n",
       "      <td>TV</td>\n",
       "      <td>True</td>\n",
       "      <td>0.32</td>\n",
       "      <td>Poor Sleep</td>\n",
       "      <td>Urban</td>\n",
       "      <td>[Poor Sleep]</td>\n",
       "    </tr>\n",
       "    <tr>\n",
       "      <th>3</th>\n",
       "      <td>15</td>\n",
       "      <td>Female</td>\n",
       "      <td>1.21</td>\n",
       "      <td>Laptop</td>\n",
       "      <td>False</td>\n",
       "      <td>0.39</td>\n",
       "      <td>NaN</td>\n",
       "      <td>Urban</td>\n",
       "      <td>[]</td>\n",
       "    </tr>\n",
       "    <tr>\n",
       "      <th>4</th>\n",
       "      <td>12</td>\n",
       "      <td>Female</td>\n",
       "      <td>5.89</td>\n",
       "      <td>Smartphone</td>\n",
       "      <td>True</td>\n",
       "      <td>0.49</td>\n",
       "      <td>Poor Sleep, Anxiety</td>\n",
       "      <td>Urban</td>\n",
       "      <td>[Poor Sleep, Anxiety]</td>\n",
       "    </tr>\n",
       "  </tbody>\n",
       "</table>\n",
       "</div>"
      ],
      "text/plain": [
       "   Age  Gender  Avg_Daily_Screen_Time_hr Primary_Device  \\\n",
       "0   14    Male                      3.99     Smartphone   \n",
       "1   11  Female                      4.61         Laptop   \n",
       "2   18  Female                      3.73             TV   \n",
       "3   15  Female                      1.21         Laptop   \n",
       "4   12  Female                      5.89     Smartphone   \n",
       "\n",
       "   Exceeded_Recommended_Limit  Educational_to_Recreational_Ratio  \\\n",
       "0                        True                               0.42   \n",
       "1                        True                               0.30   \n",
       "2                        True                               0.32   \n",
       "3                       False                               0.39   \n",
       "4                        True                               0.49   \n",
       "\n",
       "           Health_Impacts Urban_or_Rural       Health_Impacts_list  \n",
       "0  Poor Sleep, Eye Strain          Urban  [Poor Sleep, Eye Strain]  \n",
       "1              Poor Sleep          Urban              [Poor Sleep]  \n",
       "2              Poor Sleep          Urban              [Poor Sleep]  \n",
       "3                     NaN          Urban                        []  \n",
       "4     Poor Sleep, Anxiety          Urban     [Poor Sleep, Anxiety]  "
      ]
     },
     "execution_count": 22,
     "metadata": {},
     "output_type": "execute_result"
    }
   ],
   "source": [
    "df.head()"
   ]
  },
  {
   "cell_type": "code",
   "execution_count": 23,
   "id": "101ea237-668a-4dfc-9546-1c28f3a96936",
   "metadata": {},
   "outputs": [
    {
     "data": {
      "text/html": [
       "<div>\n",
       "<style scoped>\n",
       "    .dataframe tbody tr th:only-of-type {\n",
       "        vertical-align: middle;\n",
       "    }\n",
       "\n",
       "    .dataframe tbody tr th {\n",
       "        vertical-align: top;\n",
       "    }\n",
       "\n",
       "    .dataframe thead th {\n",
       "        text-align: right;\n",
       "    }\n",
       "</style>\n",
       "<table border=\"1\" class=\"dataframe\">\n",
       "  <thead>\n",
       "    <tr style=\"text-align: right;\">\n",
       "      <th></th>\n",
       "      <th>mean</th>\n",
       "      <th>median</th>\n",
       "      <th>count</th>\n",
       "    </tr>\n",
       "    <tr>\n",
       "      <th>Gender</th>\n",
       "      <th></th>\n",
       "      <th></th>\n",
       "      <th></th>\n",
       "    </tr>\n",
       "  </thead>\n",
       "  <tbody>\n",
       "    <tr>\n",
       "      <th>Female</th>\n",
       "      <td>4.35</td>\n",
       "      <td>4.43</td>\n",
       "      <td>4740</td>\n",
       "    </tr>\n",
       "    <tr>\n",
       "      <th>Male</th>\n",
       "      <td>4.39</td>\n",
       "      <td>4.46</td>\n",
       "      <td>4928</td>\n",
       "    </tr>\n",
       "  </tbody>\n",
       "</table>\n",
       "</div>"
      ],
      "text/plain": [
       "        mean  median  count\n",
       "Gender                     \n",
       "Female  4.35    4.43   4740\n",
       "Male    4.39    4.46   4928"
      ]
     },
     "metadata": {},
     "output_type": "display_data"
    },
    {
     "data": {
      "text/html": [
       "<div>\n",
       "<style scoped>\n",
       "    .dataframe tbody tr th:only-of-type {\n",
       "        vertical-align: middle;\n",
       "    }\n",
       "\n",
       "    .dataframe tbody tr th {\n",
       "        vertical-align: top;\n",
       "    }\n",
       "\n",
       "    .dataframe thead th {\n",
       "        text-align: right;\n",
       "    }\n",
       "</style>\n",
       "<table border=\"1\" class=\"dataframe\">\n",
       "  <thead>\n",
       "    <tr style=\"text-align: right;\">\n",
       "      <th>Gender</th>\n",
       "      <th>Female</th>\n",
       "      <th>Male</th>\n",
       "    </tr>\n",
       "    <tr>\n",
       "      <th>Age</th>\n",
       "      <th></th>\n",
       "      <th></th>\n",
       "    </tr>\n",
       "  </thead>\n",
       "  <tbody>\n",
       "    <tr>\n",
       "      <th>8</th>\n",
       "      <td>3.95</td>\n",
       "      <td>4.12</td>\n",
       "    </tr>\n",
       "    <tr>\n",
       "      <th>9</th>\n",
       "      <td>3.96</td>\n",
       "      <td>3.98</td>\n",
       "    </tr>\n",
       "    <tr>\n",
       "      <th>10</th>\n",
       "      <td>3.79</td>\n",
       "      <td>4.03</td>\n",
       "    </tr>\n",
       "    <tr>\n",
       "      <th>11</th>\n",
       "      <td>4.51</td>\n",
       "      <td>4.49</td>\n",
       "    </tr>\n",
       "    <tr>\n",
       "      <th>12</th>\n",
       "      <td>4.54</td>\n",
       "      <td>4.57</td>\n",
       "    </tr>\n",
       "    <tr>\n",
       "      <th>13</th>\n",
       "      <td>4.50</td>\n",
       "      <td>4.51</td>\n",
       "    </tr>\n",
       "    <tr>\n",
       "      <th>14</th>\n",
       "      <td>4.46</td>\n",
       "      <td>4.57</td>\n",
       "    </tr>\n",
       "    <tr>\n",
       "      <th>15</th>\n",
       "      <td>4.40</td>\n",
       "      <td>4.49</td>\n",
       "    </tr>\n",
       "    <tr>\n",
       "      <th>16</th>\n",
       "      <td>4.56</td>\n",
       "      <td>4.55</td>\n",
       "    </tr>\n",
       "    <tr>\n",
       "      <th>17</th>\n",
       "      <td>4.62</td>\n",
       "      <td>4.49</td>\n",
       "    </tr>\n",
       "    <tr>\n",
       "      <th>18</th>\n",
       "      <td>4.53</td>\n",
       "      <td>4.47</td>\n",
       "    </tr>\n",
       "  </tbody>\n",
       "</table>\n",
       "</div>"
      ],
      "text/plain": [
       "Gender  Female  Male\n",
       "Age                 \n",
       "8         3.95  4.12\n",
       "9         3.96  3.98\n",
       "10        3.79  4.03\n",
       "11        4.51  4.49\n",
       "12        4.54  4.57\n",
       "13        4.50  4.51\n",
       "14        4.46  4.57\n",
       "15        4.40  4.49\n",
       "16        4.56  4.55\n",
       "17        4.62  4.49\n",
       "18        4.53  4.47"
      ]
     },
     "metadata": {},
     "output_type": "display_data"
    },
    {
     "data": {
      "image/png": "[encoded data removed]",
      "text/plain": [
       "<Figure size 500x300 with 1 Axes>"
      ]
     },
     "metadata": {},
     "output_type": "display_data"
    }
   ],
   "source": [
    "gender_screen = df.groupby(\"Gender\")[\"Avg_Daily_Screen_Time_hr\"].agg([\"mean\",\"median\",\"count\"])\n",
    "display(gender_screen.round(2))\n",
    "\n",
    "# By age & gender\n",
    "age_gender = df.groupby([\"Age\",\"Gender\"])[\"Avg_Daily_Screen_Time_hr\"].mean().unstack()\n",
    "display(age_gender.round(2))\n",
    "\n",
    "# Line for male and female\n",
    "plt.figure(figsize=(5,3))\n",
    "for g in age_gender.columns:\n",
    "    plt.plot(age_gender.index, age_gender[g], marker=\"o\", label=g)\n",
    "\n",
    "# Add one line for all\n",
    "plt.plot(\n",
    "    age_mean[\"Age\"], \n",
    "    age_mean[\"Avg_Daily_Screen_Time_hr\"], \n",
    "    marker=\"o\", color=\"black\", linestyle=\"--\", label=\"Overall Mean\"\n",
    ")\n",
    "\n",
    "plt.title(\"Avg Screen Time by Age & Gender\")\n",
    "plt.xlabel(\"Age\"); plt.ylabel(\"Hours/day\")\n",
    "plt.legend()\n",
    "plt.show()\n"
   ]
  },
  {
   "cell_type": "markdown",
   "id": "19de05c9-d43c-444a-a003-5fa71542d5ed",
   "metadata": {},
   "source": [
    "***💡 1.d How do urban and rural children differ in terms of screen time and device usage?***"
   ]
  },
  {
   "cell_type": "code",
   "execution_count": 24,
   "id": "956315ae-a59e-4152-b701-02466d85ed80",
   "metadata": {},
   "outputs": [
    {
     "data": {
      "text/html": [
       "<div>\n",
       "<style scoped>\n",
       "    .dataframe tbody tr th:only-of-type {\n",
       "        vertical-align: middle;\n",
       "    }\n",
       "\n",
       "    .dataframe tbody tr th {\n",
       "        vertical-align: top;\n",
       "    }\n",
       "\n",
       "    .dataframe thead th {\n",
       "        text-align: right;\n",
       "    }\n",
       "</style>\n",
       "<table border=\"1\" class=\"dataframe\">\n",
       "  <thead>\n",
       "    <tr style=\"text-align: right;\">\n",
       "      <th></th>\n",
       "      <th>Age</th>\n",
       "      <th>Gender</th>\n",
       "      <th>Avg_Daily_Screen_Time_hr</th>\n",
       "      <th>Primary_Device</th>\n",
       "      <th>Exceeded_Recommended_Limit</th>\n",
       "      <th>Educational_to_Recreational_Ratio</th>\n",
       "      <th>Health_Impacts</th>\n",
       "      <th>Urban_or_Rural</th>\n",
       "      <th>Health_Impacts_list</th>\n",
       "    </tr>\n",
       "  </thead>\n",
       "  <tbody>\n",
       "    <tr>\n",
       "      <th>0</th>\n",
       "      <td>14</td>\n",
       "      <td>Male</td>\n",
       "      <td>3.99</td>\n",
       "      <td>Smartphone</td>\n",
       "      <td>True</td>\n",
       "      <td>0.42</td>\n",
       "      <td>Poor Sleep, Eye Strain</td>\n",
       "      <td>Urban</td>\n",
       "      <td>[Poor Sleep, Eye Strain]</td>\n",
       "    </tr>\n",
       "    <tr>\n",
       "      <th>1</th>\n",
       "      <td>11</td>\n",
       "      <td>Female</td>\n",
       "      <td>4.61</td>\n",
       "      <td>Laptop</td>\n",
       "      <td>True</td>\n",
       "      <td>0.30</td>\n",
       "      <td>Poor Sleep</td>\n",
       "      <td>Urban</td>\n",
       "      <td>[Poor Sleep]</td>\n",
       "    </tr>\n",
       "    <tr>\n",
       "      <th>2</th>\n",
       "      <td>18</td>\n",
       "      <td>Female</td>\n",
       "      <td>3.73</td>\n",
       "      <td>TV</td>\n",
       "      <td>True</td>\n",
       "      <td>0.32</td>\n",
       "      <td>Poor Sleep</td>\n",
       "      <td>Urban</td>\n",
       "      <td>[Poor Sleep]</td>\n",
       "    </tr>\n",
       "    <tr>\n",
       "      <th>3</th>\n",
       "      <td>15</td>\n",
       "      <td>Female</td>\n",
       "      <td>1.21</td>\n",
       "      <td>Laptop</td>\n",
       "      <td>False</td>\n",
       "      <td>0.39</td>\n",
       "      <td>NaN</td>\n",
       "      <td>Urban</td>\n",
       "      <td>[]</td>\n",
       "    </tr>\n",
       "    <tr>\n",
       "      <th>4</th>\n",
       "      <td>12</td>\n",
       "      <td>Female</td>\n",
       "      <td>5.89</td>\n",
       "      <td>Smartphone</td>\n",
       "      <td>True</td>\n",
       "      <td>0.49</td>\n",
       "      <td>Poor Sleep, Anxiety</td>\n",
       "      <td>Urban</td>\n",
       "      <td>[Poor Sleep, Anxiety]</td>\n",
       "    </tr>\n",
       "  </tbody>\n",
       "</table>\n",
       "</div>"
      ],
      "text/plain": [
       "   Age  Gender  Avg_Daily_Screen_Time_hr Primary_Device  \\\n",
       "0   14    Male                      3.99     Smartphone   \n",
       "1   11  Female                      4.61         Laptop   \n",
       "2   18  Female                      3.73             TV   \n",
       "3   15  Female                      1.21         Laptop   \n",
       "4   12  Female                      5.89     Smartphone   \n",
       "\n",
       "   Exceeded_Recommended_Limit  Educational_to_Recreational_Ratio  \\\n",
       "0                        True                               0.42   \n",
       "1                        True                               0.30   \n",
       "2                        True                               0.32   \n",
       "3                       False                               0.39   \n",
       "4                        True                               0.49   \n",
       "\n",
       "           Health_Impacts Urban_or_Rural       Health_Impacts_list  \n",
       "0  Poor Sleep, Eye Strain          Urban  [Poor Sleep, Eye Strain]  \n",
       "1              Poor Sleep          Urban              [Poor Sleep]  \n",
       "2              Poor Sleep          Urban              [Poor Sleep]  \n",
       "3                     NaN          Urban                        []  \n",
       "4     Poor Sleep, Anxiety          Urban     [Poor Sleep, Anxiety]  "
      ]
     },
     "execution_count": 24,
     "metadata": {},
     "output_type": "execute_result"
    }
   ],
   "source": [
    "df.head()"
   ]
  },
  {
   "cell_type": "code",
   "execution_count": 25,
   "id": "c2ee10f8-b2f3-4b06-93f0-7f8c8fb31e4a",
   "metadata": {},
   "outputs": [
    {
     "data": {
      "text/html": [
       "<div>\n",
       "<style scoped>\n",
       "    .dataframe tbody tr th:only-of-type {\n",
       "        vertical-align: middle;\n",
       "    }\n",
       "\n",
       "    .dataframe tbody tr th {\n",
       "        vertical-align: top;\n",
       "    }\n",
       "\n",
       "    .dataframe thead th {\n",
       "        text-align: right;\n",
       "    }\n",
       "</style>\n",
       "<table border=\"1\" class=\"dataframe\">\n",
       "  <thead>\n",
       "    <tr style=\"text-align: right;\">\n",
       "      <th></th>\n",
       "      <th>mean</th>\n",
       "      <th>median</th>\n",
       "      <th>count</th>\n",
       "    </tr>\n",
       "    <tr>\n",
       "      <th>Urban_or_Rural</th>\n",
       "      <th></th>\n",
       "      <th></th>\n",
       "      <th></th>\n",
       "    </tr>\n",
       "  </thead>\n",
       "  <tbody>\n",
       "    <tr>\n",
       "      <th>Rural</th>\n",
       "      <td>4.38</td>\n",
       "      <td>4.47</td>\n",
       "      <td>2858</td>\n",
       "    </tr>\n",
       "    <tr>\n",
       "      <th>Urban</th>\n",
       "      <td>4.36</td>\n",
       "      <td>4.43</td>\n",
       "      <td>6810</td>\n",
       "    </tr>\n",
       "  </tbody>\n",
       "</table>\n",
       "</div>"
      ],
      "text/plain": [
       "                mean  median  count\n",
       "Urban_or_Rural                     \n",
       "Rural           4.38    4.47   2858\n",
       "Urban           4.36    4.43   6810"
      ]
     },
     "metadata": {},
     "output_type": "display_data"
    },
    {
     "name": "stdout",
     "output_type": "stream",
     "text": [
      "---------------------------------------------------------------------------------------------------------------------------------\n"
     ]
    },
    {
     "data": {
      "text/html": [
       "<div>\n",
       "<style scoped>\n",
       "    .dataframe tbody tr th:only-of-type {\n",
       "        vertical-align: middle;\n",
       "    }\n",
       "\n",
       "    .dataframe tbody tr th {\n",
       "        vertical-align: top;\n",
       "    }\n",
       "\n",
       "    .dataframe thead th {\n",
       "        text-align: right;\n",
       "    }\n",
       "</style>\n",
       "<table border=\"1\" class=\"dataframe\">\n",
       "  <thead>\n",
       "    <tr style=\"text-align: right;\">\n",
       "      <th>Urban_or_Rural</th>\n",
       "      <th>Rural</th>\n",
       "      <th>Urban</th>\n",
       "      <th>Total</th>\n",
       "    </tr>\n",
       "    <tr>\n",
       "      <th>Primary_Device</th>\n",
       "      <th></th>\n",
       "      <th></th>\n",
       "      <th></th>\n",
       "    </tr>\n",
       "  </thead>\n",
       "  <tbody>\n",
       "    <tr>\n",
       "      <th>Smartphone</th>\n",
       "      <td>1318</td>\n",
       "      <td>3222</td>\n",
       "      <td>4540</td>\n",
       "    </tr>\n",
       "    <tr>\n",
       "      <th>TV</th>\n",
       "      <td>744</td>\n",
       "      <td>1734</td>\n",
       "      <td>2478</td>\n",
       "    </tr>\n",
       "    <tr>\n",
       "      <th>Laptop</th>\n",
       "      <td>404</td>\n",
       "      <td>1027</td>\n",
       "      <td>1431</td>\n",
       "    </tr>\n",
       "    <tr>\n",
       "      <th>Tablet</th>\n",
       "      <td>392</td>\n",
       "      <td>827</td>\n",
       "      <td>1219</td>\n",
       "    </tr>\n",
       "    <tr>\n",
       "      <th>All Devices</th>\n",
       "      <td>2858</td>\n",
       "      <td>6810</td>\n",
       "      <td>9668</td>\n",
       "    </tr>\n",
       "  </tbody>\n",
       "</table>\n",
       "</div>"
      ],
      "text/plain": [
       "Urban_or_Rural  Rural  Urban  Total\n",
       "Primary_Device                     \n",
       "Smartphone       1318   3222   4540\n",
       "TV                744   1734   2478\n",
       "Laptop            404   1027   1431\n",
       "Tablet            392    827   1219\n",
       "All Devices      2858   6810   9668"
      ]
     },
     "metadata": {},
     "output_type": "display_data"
    },
    {
     "name": "stdout",
     "output_type": "stream",
     "text": [
      "9668\n"
     ]
    }
   ],
   "source": [
    "loc_screen = df.groupby(\"Urban_or_Rural\")[\"Avg_Daily_Screen_Time_hr\"].agg([\"mean\",\"median\",\"count\"])\n",
    "display(loc_screen.round(2))\n",
    "\n",
    "print(\"---------------------------------------------------------------------------------------------------------------------------------\")\n",
    "\n",
    "# Device usage by location\n",
    "loc_device = (df\n",
    "    .pivot_table(index=\"Primary_Device\", columns=\"Urban_or_Rural\", values=\"Age\", aggfunc=\"count\", fill_value=0)\n",
    "    .assign(Total=lambda x: x.sum(1))\n",
    "    .sort_values(\"Total\", ascending=False)\n",
    ")\n",
    "loc_device.loc[\"All Devices\"] = loc_device.sum()\n",
    "display(loc_device)\n",
    "print(len(df))\n"
   ]
  },
  {
   "cell_type": "code",
   "execution_count": 26,
   "id": "d0ed677a-4022-4216-a9b7-2a4762387081",
   "metadata": {},
   "outputs": [
    {
     "data": {
      "text/plain": [
       "<Figure size 640x480 with 0 Axes>"
      ]
     },
     "metadata": {},
     "output_type": "display_data"
    },
    {
     "data": {
      "image/png": "[encoded data removed]",
      "text/plain": [
       "<Figure size 500x300 with 1 Axes>"
      ]
     },
     "metadata": {},
     "output_type": "display_data"
    }
   ],
   "source": [
    "plt.figure()\n",
    "\n",
    "plt.figure(figsize=(5,3))\n",
    "for g in loc_device.columns:\n",
    "    plt.plot(loc_device.index, loc_device[g], marker=\"o\", label=g)\n",
    "\n",
    "\n",
    "plt.title(\"Urban/Rural screen time and device usage\")\n",
    "plt.xlabel(\"Primary_Device\"); plt.ylabel(\"Number of devices\")\n",
    "plt.legend()\n",
    "plt.show()"
   ]
  },
  {
   "cell_type": "markdown",
   "id": "c74d8194-35c9-47d6-a79e-48d9bf651086",
   "metadata": {},
   "source": [
    "## 📌 Device Usage\n",
    "- Which is the most commonly used primary screen device (smartphone, TV, tablet, laptop)?  \n",
    "- How does device preference change with age (e.g., do younger kids use TV more, teens prefer smartphones)?  \n",
    "- Are there gender differences in preferred devices?  "
   ]
  },
  {
   "cell_type": "markdown",
   "id": "7868b785-d3b4-4191-b928-1d649be19c74",
   "metadata": {},
   "source": [
    "***💡 2.a Which is the most commonly used primary screen device (smartphone, TV, tablet, laptop)?***"
   ]
  },
  {
   "cell_type": "code",
   "execution_count": 27,
   "id": "305ed7e8-7f6a-4323-a76c-efb3687d456f",
   "metadata": {},
   "outputs": [
    {
     "data": {
      "text/html": [
       "<div>\n",
       "<style scoped>\n",
       "    .dataframe tbody tr th:only-of-type {\n",
       "        vertical-align: middle;\n",
       "    }\n",
       "\n",
       "    .dataframe tbody tr th {\n",
       "        vertical-align: top;\n",
       "    }\n",
       "\n",
       "    .dataframe thead th {\n",
       "        text-align: right;\n",
       "    }\n",
       "</style>\n",
       "<table border=\"1\" class=\"dataframe\">\n",
       "  <thead>\n",
       "    <tr style=\"text-align: right;\">\n",
       "      <th></th>\n",
       "      <th>Age</th>\n",
       "      <th>Gender</th>\n",
       "      <th>Avg_Daily_Screen_Time_hr</th>\n",
       "      <th>Primary_Device</th>\n",
       "      <th>Exceeded_Recommended_Limit</th>\n",
       "      <th>Educational_to_Recreational_Ratio</th>\n",
       "      <th>Health_Impacts</th>\n",
       "      <th>Urban_or_Rural</th>\n",
       "      <th>Health_Impacts_list</th>\n",
       "    </tr>\n",
       "  </thead>\n",
       "  <tbody>\n",
       "    <tr>\n",
       "      <th>0</th>\n",
       "      <td>14</td>\n",
       "      <td>Male</td>\n",
       "      <td>3.99</td>\n",
       "      <td>Smartphone</td>\n",
       "      <td>True</td>\n",
       "      <td>0.42</td>\n",
       "      <td>Poor Sleep, Eye Strain</td>\n",
       "      <td>Urban</td>\n",
       "      <td>[Poor Sleep, Eye Strain]</td>\n",
       "    </tr>\n",
       "    <tr>\n",
       "      <th>1</th>\n",
       "      <td>11</td>\n",
       "      <td>Female</td>\n",
       "      <td>4.61</td>\n",
       "      <td>Laptop</td>\n",
       "      <td>True</td>\n",
       "      <td>0.30</td>\n",
       "      <td>Poor Sleep</td>\n",
       "      <td>Urban</td>\n",
       "      <td>[Poor Sleep]</td>\n",
       "    </tr>\n",
       "    <tr>\n",
       "      <th>2</th>\n",
       "      <td>18</td>\n",
       "      <td>Female</td>\n",
       "      <td>3.73</td>\n",
       "      <td>TV</td>\n",
       "      <td>True</td>\n",
       "      <td>0.32</td>\n",
       "      <td>Poor Sleep</td>\n",
       "      <td>Urban</td>\n",
       "      <td>[Poor Sleep]</td>\n",
       "    </tr>\n",
       "    <tr>\n",
       "      <th>3</th>\n",
       "      <td>15</td>\n",
       "      <td>Female</td>\n",
       "      <td>1.21</td>\n",
       "      <td>Laptop</td>\n",
       "      <td>False</td>\n",
       "      <td>0.39</td>\n",
       "      <td>NaN</td>\n",
       "      <td>Urban</td>\n",
       "      <td>[]</td>\n",
       "    </tr>\n",
       "    <tr>\n",
       "      <th>4</th>\n",
       "      <td>12</td>\n",
       "      <td>Female</td>\n",
       "      <td>5.89</td>\n",
       "      <td>Smartphone</td>\n",
       "      <td>True</td>\n",
       "      <td>0.49</td>\n",
       "      <td>Poor Sleep, Anxiety</td>\n",
       "      <td>Urban</td>\n",
       "      <td>[Poor Sleep, Anxiety]</td>\n",
       "    </tr>\n",
       "  </tbody>\n",
       "</table>\n",
       "</div>"
      ],
      "text/plain": [
       "   Age  Gender  Avg_Daily_Screen_Time_hr Primary_Device  \\\n",
       "0   14    Male                      3.99     Smartphone   \n",
       "1   11  Female                      4.61         Laptop   \n",
       "2   18  Female                      3.73             TV   \n",
       "3   15  Female                      1.21         Laptop   \n",
       "4   12  Female                      5.89     Smartphone   \n",
       "\n",
       "   Exceeded_Recommended_Limit  Educational_to_Recreational_Ratio  \\\n",
       "0                        True                               0.42   \n",
       "1                        True                               0.30   \n",
       "2                        True                               0.32   \n",
       "3                       False                               0.39   \n",
       "4                        True                               0.49   \n",
       "\n",
       "           Health_Impacts Urban_or_Rural       Health_Impacts_list  \n",
       "0  Poor Sleep, Eye Strain          Urban  [Poor Sleep, Eye Strain]  \n",
       "1              Poor Sleep          Urban              [Poor Sleep]  \n",
       "2              Poor Sleep          Urban              [Poor Sleep]  \n",
       "3                     NaN          Urban                        []  \n",
       "4     Poor Sleep, Anxiety          Urban     [Poor Sleep, Anxiety]  "
      ]
     },
     "execution_count": 27,
     "metadata": {},
     "output_type": "execute_result"
    }
   ],
   "source": [
    "df.head()"
   ]
  },
  {
   "cell_type": "code",
   "execution_count": 28,
   "id": "ff27d112-0a91-4284-a7b1-177bba73b692",
   "metadata": {},
   "outputs": [
    {
     "data": {
      "text/plain": [
       "Primary_Device\n",
       "Smartphone    4540\n",
       "TV            2478\n",
       "Laptop        1431\n",
       "Tablet        1219\n",
       "Name: count, dtype: int64"
      ]
     },
     "metadata": {},
     "output_type": "display_data"
    },
    {
     "data": {
      "image/png": "[encoded data removed]",
      "text/plain": [
       "<Figure size 500x300 with 1 Axes>"
      ]
     },
     "metadata": {},
     "output_type": "display_data"
    }
   ],
   "source": [
    "device_counts = df[\"Primary_Device\"].value_counts()\n",
    "display(device_counts)\n",
    "\n",
    "\n",
    "plt.figure(figsize=(5,3))\n",
    "colors = plt.cm.viridis(np.linspace(0, 1, len(device_counts)))\n",
    "#device_counts.plot(kind=\"bar\", colors=col)\n",
    "plt.bar(device_counts.index, device_counts.values, color=colors)\n",
    "plt.title(\"Primary Device Popularity\")\n",
    "plt.xlabel(\"Device\"); plt.ylabel(\"Children\")\n",
    "plt.show()"
   ]
  },
  {
   "cell_type": "markdown",
   "id": "323ab901-1f92-4511-98d5-d8f9a1eaeb08",
   "metadata": {},
   "source": [
    "***💡 2.b How does device preference change with age (e.g., do younger kids use TV more, teens prefer smartphones)?***"
   ]
  },
  {
   "cell_type": "code",
   "execution_count": 29,
   "id": "c9eb3c94-94f0-48bb-9b98-6cab3c7aaff2",
   "metadata": {},
   "outputs": [
    {
     "data": {
      "text/html": [
       "<div>\n",
       "<style scoped>\n",
       "    .dataframe tbody tr th:only-of-type {\n",
       "        vertical-align: middle;\n",
       "    }\n",
       "\n",
       "    .dataframe tbody tr th {\n",
       "        vertical-align: top;\n",
       "    }\n",
       "\n",
       "    .dataframe thead th {\n",
       "        text-align: right;\n",
       "    }\n",
       "</style>\n",
       "<table border=\"1\" class=\"dataframe\">\n",
       "  <thead>\n",
       "    <tr style=\"text-align: right;\">\n",
       "      <th>Primary_Device</th>\n",
       "      <th>Laptop</th>\n",
       "      <th>Smartphone</th>\n",
       "      <th>TV</th>\n",
       "      <th>Tablet</th>\n",
       "    </tr>\n",
       "    <tr>\n",
       "      <th>Age</th>\n",
       "      <th></th>\n",
       "      <th></th>\n",
       "      <th></th>\n",
       "      <th></th>\n",
       "    </tr>\n",
       "  </thead>\n",
       "  <tbody>\n",
       "    <tr>\n",
       "      <th>8</th>\n",
       "      <td>0</td>\n",
       "      <td>378</td>\n",
       "      <td>334</td>\n",
       "      <td>188</td>\n",
       "    </tr>\n",
       "    <tr>\n",
       "      <th>9</th>\n",
       "      <td>0</td>\n",
       "      <td>339</td>\n",
       "      <td>345</td>\n",
       "      <td>191</td>\n",
       "    </tr>\n",
       "    <tr>\n",
       "      <th>10</th>\n",
       "      <td>0</td>\n",
       "      <td>333</td>\n",
       "      <td>358</td>\n",
       "      <td>172</td>\n",
       "    </tr>\n",
       "    <tr>\n",
       "      <th>11</th>\n",
       "      <td>199</td>\n",
       "      <td>409</td>\n",
       "      <td>171</td>\n",
       "      <td>84</td>\n",
       "    </tr>\n",
       "    <tr>\n",
       "      <th>12</th>\n",
       "      <td>182</td>\n",
       "      <td>438</td>\n",
       "      <td>169</td>\n",
       "      <td>78</td>\n",
       "    </tr>\n",
       "    <tr>\n",
       "      <th>13</th>\n",
       "      <td>171</td>\n",
       "      <td>457</td>\n",
       "      <td>192</td>\n",
       "      <td>90</td>\n",
       "    </tr>\n",
       "    <tr>\n",
       "      <th>14</th>\n",
       "      <td>181</td>\n",
       "      <td>451</td>\n",
       "      <td>174</td>\n",
       "      <td>89</td>\n",
       "    </tr>\n",
       "    <tr>\n",
       "      <th>15</th>\n",
       "      <td>189</td>\n",
       "      <td>408</td>\n",
       "      <td>182</td>\n",
       "      <td>85</td>\n",
       "    </tr>\n",
       "    <tr>\n",
       "      <th>16</th>\n",
       "      <td>169</td>\n",
       "      <td>442</td>\n",
       "      <td>187</td>\n",
       "      <td>76</td>\n",
       "    </tr>\n",
       "    <tr>\n",
       "      <th>17</th>\n",
       "      <td>180</td>\n",
       "      <td>462</td>\n",
       "      <td>190</td>\n",
       "      <td>86</td>\n",
       "    </tr>\n",
       "    <tr>\n",
       "      <th>18</th>\n",
       "      <td>160</td>\n",
       "      <td>423</td>\n",
       "      <td>176</td>\n",
       "      <td>80</td>\n",
       "    </tr>\n",
       "  </tbody>\n",
       "</table>\n",
       "</div>"
      ],
      "text/plain": [
       "Primary_Device  Laptop  Smartphone   TV  Tablet\n",
       "Age                                            \n",
       "8                    0         378  334     188\n",
       "9                    0         339  345     191\n",
       "10                   0         333  358     172\n",
       "11                 199         409  171      84\n",
       "12                 182         438  169      78\n",
       "13                 171         457  192      90\n",
       "14                 181         451  174      89\n",
       "15                 189         408  182      85\n",
       "16                 169         442  187      76\n",
       "17                 180         462  190      86\n",
       "18                 160         423  176      80"
      ]
     },
     "metadata": {},
     "output_type": "display_data"
    },
    {
     "data": {
      "text/plain": [
       "<Figure size 500x300 with 0 Axes>"
      ]
     },
     "metadata": {},
     "output_type": "display_data"
    },
    {
     "data": {
      "image/png": "[encoded data removed]",
      "text/plain": [
       "<Figure size 640x480 with 1 Axes>"
      ]
     },
     "metadata": {},
     "output_type": "display_data"
    }
   ],
   "source": [
    "Device_by_age = (df\n",
    "    .groupby([\"Age\",\"Primary_Device\"])\n",
    "    .size()\n",
    "    .reset_index(name=\"count\")\n",
    "    .pivot(index=\"Age\", columns=\"Primary_Device\", values=\"count\")\n",
    "    .fillna(0)\n",
    ")\n",
    "display(Device_by_age.astype(int))\n",
    "\n",
    "plt.figure(figsize=(5,3))\n",
    "(Device_by_age.div(Device_by_age.sum(1), axis=0)).plot(kind=\"line\", marker=\"o\")\n",
    "plt.title(\"Share of Primary Device by Age\")\n",
    "plt.xlabel(\"Age\"); plt.ylabel(\"Share of children\")\n",
    "plt.legend(title=\"Device\")\n",
    "plt.show()\n"
   ]
  },
  {
   "cell_type": "markdown",
   "id": "12e77477-dd90-4c7a-88bd-8eceaf40576f",
   "metadata": {},
   "source": [
    "***💡 2.c Are there gender differences in preferred devices?***"
   ]
  },
  {
   "cell_type": "code",
   "execution_count": 30,
   "id": "a4ba7efc-3b70-455f-b4b8-4a0b7d8d87fb",
   "metadata": {},
   "outputs": [
    {
     "data": {
      "text/html": [
       "<div>\n",
       "<style scoped>\n",
       "    .dataframe tbody tr th:only-of-type {\n",
       "        vertical-align: middle;\n",
       "    }\n",
       "\n",
       "    .dataframe tbody tr th {\n",
       "        vertical-align: top;\n",
       "    }\n",
       "\n",
       "    .dataframe thead th {\n",
       "        text-align: right;\n",
       "    }\n",
       "</style>\n",
       "<table border=\"1\" class=\"dataframe\">\n",
       "  <thead>\n",
       "    <tr style=\"text-align: right;\">\n",
       "      <th>Gender</th>\n",
       "      <th>Female</th>\n",
       "      <th>Male</th>\n",
       "    </tr>\n",
       "    <tr>\n",
       "      <th>Primary_Device</th>\n",
       "      <th></th>\n",
       "      <th></th>\n",
       "    </tr>\n",
       "  </thead>\n",
       "  <tbody>\n",
       "    <tr>\n",
       "      <th>Laptop</th>\n",
       "      <td>739</td>\n",
       "      <td>692</td>\n",
       "    </tr>\n",
       "    <tr>\n",
       "      <th>Smartphone</th>\n",
       "      <td>2201</td>\n",
       "      <td>2339</td>\n",
       "    </tr>\n",
       "    <tr>\n",
       "      <th>TV</th>\n",
       "      <td>1213</td>\n",
       "      <td>1265</td>\n",
       "    </tr>\n",
       "    <tr>\n",
       "      <th>Tablet</th>\n",
       "      <td>587</td>\n",
       "      <td>632</td>\n",
       "    </tr>\n",
       "  </tbody>\n",
       "</table>\n",
       "</div>"
      ],
      "text/plain": [
       "Gender          Female  Male\n",
       "Primary_Device              \n",
       "Laptop             739   692\n",
       "Smartphone        2201  2339\n",
       "TV                1213  1265\n",
       "Tablet             587   632"
      ]
     },
     "metadata": {},
     "output_type": "display_data"
    },
    {
     "data": {
      "image/png": "[encoded data removed]",
      "text/plain": [
       "<Figure size 800x600 with 1 Axes>"
      ]
     },
     "metadata": {},
     "output_type": "display_data"
    }
   ],
   "source": [
    "# Crosstab: devices vs gender\n",
    "dev_gender = pd.crosstab(df[\"Primary_Device\"], df[\"Gender\"])\n",
    "display(dev_gender)\n",
    "\n",
    "# Convert to proportions by gender\n",
    "dev_gender_prop = dev_gender.div(dev_gender.sum(axis=0), axis=1)\n",
    "\n",
    "# Plot\n",
    "ax = dev_gender_prop.T.plot(kind=\"bar\", stacked=True, figsize=(8,6))\n",
    "plt.title(\"Primary Device by Gender (Share)\")\n",
    "plt.xlabel(\"Gender\")\n",
    "plt.ylabel(\"Proportion\")\n",
    "plt.legend(title=\"Device\", bbox_to_anchor=(1.05, 1), loc='upper left')\n",
    "plt.tight_layout()\n",
    "plt.show()"
   ]
  },
  {
   "cell_type": "markdown",
   "id": "050a6b0f-be0a-4c23-be67-8faa4c9a6efd",
   "metadata": {},
   "source": [
    "## 📌 Screen Time Patterns\n",
    "- What is the average total screen time per day for all children?  \n",
    "- How much time is spent on educational vs. recreational activities?  \n",
    "- Does recreational screen time increase with age?  \n",
    "- What proportion of children exceed the IAP guidelines?  \n",
    "- Is there a significant difference in screen time between urban and rural areas? "
   ]
  },
  {
   "cell_type": "markdown",
   "id": "f4d3a066-f5b9-4da7-9c5e-706a9975ab65",
   "metadata": {},
   "source": [
    "***💡 3.a What is the average total screen time per day for all children?***"
   ]
  },
  {
   "cell_type": "code",
   "execution_count": 31,
   "id": "15fca468-7de6-4547-8f70-55c0e5d935bd",
   "metadata": {},
   "outputs": [
    {
     "data": {
      "text/plain": [
       "mean       4.37\n",
       "median     4.44\n",
       "std        1.70\n",
       "min        0.00\n",
       "max       13.89\n",
       "Name: Avg_Daily_Screen_Time_hr, dtype: float64"
      ]
     },
     "metadata": {},
     "output_type": "display_data"
    }
   ],
   "source": [
    "overall = df[\"Avg_Daily_Screen_Time_hr\"].agg([\"mean\",\"median\",\"std\",\"min\",\"max\"])\n",
    "display(overall.round(2))"
   ]
  },
  {
   "cell_type": "markdown",
   "id": "1a73c851-e597-4781-b375-4dbc3fa81c71",
   "metadata": {},
   "source": [
    "***💡 3.b How much time is spent on educational vs. recreational activities?***"
   ]
  },
  {
   "cell_type": "code",
   "execution_count": 32,
   "id": "3a29d93e-27e2-4ab9-ae9d-cc014dacbe80",
   "metadata": {},
   "outputs": [
    {
     "data": {
      "text/html": [
       "<div>\n",
       "<style scoped>\n",
       "    .dataframe tbody tr th:only-of-type {\n",
       "        vertical-align: middle;\n",
       "    }\n",
       "\n",
       "    .dataframe tbody tr th {\n",
       "        vertical-align: top;\n",
       "    }\n",
       "\n",
       "    .dataframe thead th {\n",
       "        text-align: right;\n",
       "    }\n",
       "</style>\n",
       "<table border=\"1\" class=\"dataframe\">\n",
       "  <thead>\n",
       "    <tr style=\"text-align: right;\">\n",
       "      <th></th>\n",
       "      <th>Age</th>\n",
       "      <th>Gender</th>\n",
       "      <th>Avg_Daily_Screen_Time_hr</th>\n",
       "      <th>Primary_Device</th>\n",
       "      <th>Exceeded_Recommended_Limit</th>\n",
       "      <th>Educational_to_Recreational_Ratio</th>\n",
       "      <th>Health_Impacts</th>\n",
       "      <th>Urban_or_Rural</th>\n",
       "      <th>Health_Impacts_list</th>\n",
       "    </tr>\n",
       "  </thead>\n",
       "  <tbody>\n",
       "    <tr>\n",
       "      <th>0</th>\n",
       "      <td>14</td>\n",
       "      <td>Male</td>\n",
       "      <td>3.99</td>\n",
       "      <td>Smartphone</td>\n",
       "      <td>True</td>\n",
       "      <td>0.42</td>\n",
       "      <td>Poor Sleep, Eye Strain</td>\n",
       "      <td>Urban</td>\n",
       "      <td>[Poor Sleep, Eye Strain]</td>\n",
       "    </tr>\n",
       "    <tr>\n",
       "      <th>1</th>\n",
       "      <td>11</td>\n",
       "      <td>Female</td>\n",
       "      <td>4.61</td>\n",
       "      <td>Laptop</td>\n",
       "      <td>True</td>\n",
       "      <td>0.30</td>\n",
       "      <td>Poor Sleep</td>\n",
       "      <td>Urban</td>\n",
       "      <td>[Poor Sleep]</td>\n",
       "    </tr>\n",
       "    <tr>\n",
       "      <th>2</th>\n",
       "      <td>18</td>\n",
       "      <td>Female</td>\n",
       "      <td>3.73</td>\n",
       "      <td>TV</td>\n",
       "      <td>True</td>\n",
       "      <td>0.32</td>\n",
       "      <td>Poor Sleep</td>\n",
       "      <td>Urban</td>\n",
       "      <td>[Poor Sleep]</td>\n",
       "    </tr>\n",
       "    <tr>\n",
       "      <th>3</th>\n",
       "      <td>15</td>\n",
       "      <td>Female</td>\n",
       "      <td>1.21</td>\n",
       "      <td>Laptop</td>\n",
       "      <td>False</td>\n",
       "      <td>0.39</td>\n",
       "      <td>NaN</td>\n",
       "      <td>Urban</td>\n",
       "      <td>[]</td>\n",
       "    </tr>\n",
       "    <tr>\n",
       "      <th>4</th>\n",
       "      <td>12</td>\n",
       "      <td>Female</td>\n",
       "      <td>5.89</td>\n",
       "      <td>Smartphone</td>\n",
       "      <td>True</td>\n",
       "      <td>0.49</td>\n",
       "      <td>Poor Sleep, Anxiety</td>\n",
       "      <td>Urban</td>\n",
       "      <td>[Poor Sleep, Anxiety]</td>\n",
       "    </tr>\n",
       "  </tbody>\n",
       "</table>\n",
       "</div>"
      ],
      "text/plain": [
       "   Age  Gender  Avg_Daily_Screen_Time_hr Primary_Device  \\\n",
       "0   14    Male                      3.99     Smartphone   \n",
       "1   11  Female                      4.61         Laptop   \n",
       "2   18  Female                      3.73             TV   \n",
       "3   15  Female                      1.21         Laptop   \n",
       "4   12  Female                      5.89     Smartphone   \n",
       "\n",
       "   Exceeded_Recommended_Limit  Educational_to_Recreational_Ratio  \\\n",
       "0                        True                               0.42   \n",
       "1                        True                               0.30   \n",
       "2                        True                               0.32   \n",
       "3                       False                               0.39   \n",
       "4                        True                               0.49   \n",
       "\n",
       "           Health_Impacts Urban_or_Rural       Health_Impacts_list  \n",
       "0  Poor Sleep, Eye Strain          Urban  [Poor Sleep, Eye Strain]  \n",
       "1              Poor Sleep          Urban              [Poor Sleep]  \n",
       "2              Poor Sleep          Urban              [Poor Sleep]  \n",
       "3                     NaN          Urban                        []  \n",
       "4     Poor Sleep, Anxiety          Urban     [Poor Sleep, Anxiety]  "
      ]
     },
     "execution_count": 32,
     "metadata": {},
     "output_type": "execute_result"
    }
   ],
   "source": [
    "df.head()"
   ]
  },
  {
   "cell_type": "code",
   "execution_count": 33,
   "id": "53b69f68-01b1-44a4-bc5f-4eb0a66f1dc1",
   "metadata": {},
   "outputs": [
    {
     "name": "stdout",
     "output_type": "stream",
     "text": [
      "<bound method IndexOpsMixin.tolist of 0       0.42\n",
      "1       0.30\n",
      "2       0.32\n",
      "3       0.39\n",
      "4       0.49\n",
      "        ... \n",
      "9707    0.44\n",
      "9708    0.40\n",
      "9709    0.39\n",
      "9710    0.43\n",
      "9711    0.33\n",
      "Name: Educational_to_Recreational_Ratio, Length: 9668, dtype: float64>\n"
     ]
    }
   ],
   "source": [
    "df.head()\n",
    "print(df[\"Educational_to_Recreational_Ratio\"].to_list)"
   ]
  },
  {
   "cell_type": "code",
   "execution_count": 34,
   "id": "120d9da5-5352-4091-9792-51c7422fc73d",
   "metadata": {},
   "outputs": [
    {
     "name": "stdout",
     "output_type": "stream",
     "text": [
      "Educational vs Recreational Screen Time (hours/day):\n",
      "        educational_time_hrs  recreational_time_hrs\n",
      "mean                    1.29                   3.07\n",
      "median                  1.27                   3.14\n",
      "std                     0.55                   1.19\n",
      "min                     0.00                   0.00\n",
      "max                     5.10                   8.79\n"
     ]
    },
    {
     "data": {
      "image/png": "[encoded data removed]",
      "text/plain": [
       "<Figure size 400x200 with 1 Axes>"
      ]
     },
     "metadata": {},
     "output_type": "display_data"
    },
    {
     "name": "stderr",
     "output_type": "stream",
     "text": [
      "/home/mrityunjay-kumar/anaconda3/lib/python3.11/site-packages/seaborn/_oldcore.py:1119: FutureWarning: use_inf_as_na option is deprecated and will be removed in a future version. Convert inf values to NaN before operating instead.\n",
      "  with pd.option_context('mode.use_inf_as_na', True):\n",
      "/home/mrityunjay-kumar/anaconda3/lib/python3.11/site-packages/seaborn/_oldcore.py:1119: FutureWarning: use_inf_as_na option is deprecated and will be removed in a future version. Convert inf values to NaN before operating instead.\n",
      "  with pd.option_context('mode.use_inf_as_na', True):\n"
     ]
    },
    {
     "data": {
      "image/png": "[encoded data removed]",
      "text/plain": [
       "<Figure size 500x300 with 1 Axes>"
      ]
     },
     "metadata": {},
     "output_type": "display_data"
    }
   ],
   "source": [
    "# --- Reconstruct hours from ratio and total ---\n",
    "df[\"educational_time_hrs\"] = (df[\"Educational_to_Recreational_Ratio\"] / (1 + df[\"Educational_to_Recreational_Ratio\"])) * df[\"Avg_Daily_Screen_Time_hr\"]\n",
    "df[\"recreational_time_hrs\"] = (1 / (1 + df[\"Educational_to_Recreational_Ratio\"])) * df[\"Avg_Daily_Screen_Time_hr\"]\n",
    "\n",
    "# --- Summary statistics ---\n",
    "edu_rec_stats = df[[\"educational_time_hrs\", \"recreational_time_hrs\"]].agg([\"mean\",\"median\",\"std\",\"min\",\"max\"])\n",
    "print(\"Educational vs Recreational Screen Time (hours/day):\")\n",
    "print(edu_rec_stats.round(2))\n",
    "\n",
    "# --- Average comparison ---\n",
    "avg_values = df[[\"educational_time_hrs\", \"recreational_time_hrs\"]].mean()\n",
    "\n",
    "plt.figure(figsize=(4,2))\n",
    "avg_values.plot(kind=\"bar\", color=[\"#4CAF50\", \"#FF5722\"])\n",
    "plt.title(\"Average Educational vs Recreational Screen Time\")\n",
    "plt.ylabel(\"Hours per Day\")\n",
    "plt.xticks(rotation=0)\n",
    "plt.show()\n",
    "\n",
    "# --- Distribution ---\n",
    "plt.figure(figsize=(5,3))\n",
    "sns.histplot(df[\"educational_time_hrs\"], bins=30, alpha=0.6, label=\"Educational\",kde=True ,color=\"#4CAF50\")\n",
    "sns.histplot(df[\"recreational_time_hrs\"], bins=30, alpha=0.6, label=\"Recreational\",kde=True, color=\"#FF5722\")\n",
    "plt.title(\"Distribution of Educational vs Recreational Screen Time\")\n",
    "plt.xlabel(\"Hours per Day\")\n",
    "plt.ylabel(\"Number of Children\")\n",
    "plt.legend()\n",
    "plt.show()\n",
    "\n"
   ]
  },
  {
   "cell_type": "markdown",
   "id": "fde3f117-1087-44b4-be90-244fe93e7750",
   "metadata": {},
   "source": [
    "***💡 3.c Does recreational screen time increase with age?***"
   ]
  },
  {
   "cell_type": "code",
   "execution_count": 35,
   "id": "92ac9ca2-b43f-4ccd-924e-426e48d4ed6e",
   "metadata": {},
   "outputs": [
    {
     "data": {
      "text/plain": [
       "Age\n",
       "8     2.70\n",
       "9     2.65\n",
       "10    2.61\n",
       "11    3.21\n",
       "12    3.26\n",
       "13    3.22\n",
       "14    3.23\n",
       "15    3.18\n",
       "16    3.26\n",
       "17    3.27\n",
       "18    3.23\n",
       "Name: recreational_time_hrs, dtype: float64"
      ]
     },
     "metadata": {},
     "output_type": "display_data"
    },
    {
     "data": {
      "image/png": "[encoded data removed]",
      "text/plain": [
       "<Figure size 640x480 with 1 Axes>"
      ]
     },
     "metadata": {},
     "output_type": "display_data"
    }
   ],
   "source": [
    "rec_by_age = df.groupby(\"Age\")[\"recreational_time_hrs\"].mean()\n",
    "display(rec_by_age.round(2))\n",
    "\n",
    "plt.figure()\n",
    "rec_by_age.plot(kind=\"line\", marker=\"o\")\n",
    "# plt.plot(\n",
    "#     age_mean[\"Age\"], \n",
    "#     age_mean[\"Avg_Daily_Screen_Time_hr\"], \n",
    "#     marker=\"o\", color=\"black\", linestyle=\"--\", label=\"Overall Mean\"\n",
    "# )\n",
    "plt.title(\"Average Recreational Time by Age\")\n",
    "plt.xlabel(\"Age\"); plt.ylabel(\"Hours/day\")\n",
    "plt.show()\n"
   ]
  },
  {
   "cell_type": "markdown",
   "id": "93789014-3a2e-4263-9c2f-8a0f63fd87e1",
   "metadata": {},
   "source": [
    "***💡 3.d What proportion of children exceed the IAP guidelines?***"
   ]
  },
  {
   "cell_type": "code",
   "execution_count": 36,
   "id": "99e16a38-e159-4b99-9f3d-22d04d52cd4d",
   "metadata": {},
   "outputs": [
    {
     "data": {
      "text/html": [
       "<div>\n",
       "<style scoped>\n",
       "    .dataframe tbody tr th:only-of-type {\n",
       "        vertical-align: middle;\n",
       "    }\n",
       "\n",
       "    .dataframe tbody tr th {\n",
       "        vertical-align: top;\n",
       "    }\n",
       "\n",
       "    .dataframe thead th {\n",
       "        text-align: right;\n",
       "    }\n",
       "</style>\n",
       "<table border=\"1\" class=\"dataframe\">\n",
       "  <thead>\n",
       "    <tr style=\"text-align: right;\">\n",
       "      <th></th>\n",
       "      <th>Age</th>\n",
       "      <th>Gender</th>\n",
       "      <th>Avg_Daily_Screen_Time_hr</th>\n",
       "      <th>Primary_Device</th>\n",
       "      <th>Exceeded_Recommended_Limit</th>\n",
       "      <th>Educational_to_Recreational_Ratio</th>\n",
       "      <th>Health_Impacts</th>\n",
       "      <th>Urban_or_Rural</th>\n",
       "      <th>Health_Impacts_list</th>\n",
       "      <th>educational_time_hrs</th>\n",
       "      <th>recreational_time_hrs</th>\n",
       "    </tr>\n",
       "  </thead>\n",
       "  <tbody>\n",
       "    <tr>\n",
       "      <th>0</th>\n",
       "      <td>14</td>\n",
       "      <td>Male</td>\n",
       "      <td>3.99</td>\n",
       "      <td>Smartphone</td>\n",
       "      <td>True</td>\n",
       "      <td>0.42</td>\n",
       "      <td>Poor Sleep, Eye Strain</td>\n",
       "      <td>Urban</td>\n",
       "      <td>[Poor Sleep, Eye Strain]</td>\n",
       "      <td>1.180141</td>\n",
       "      <td>2.809859</td>\n",
       "    </tr>\n",
       "    <tr>\n",
       "      <th>1</th>\n",
       "      <td>11</td>\n",
       "      <td>Female</td>\n",
       "      <td>4.61</td>\n",
       "      <td>Laptop</td>\n",
       "      <td>True</td>\n",
       "      <td>0.30</td>\n",
       "      <td>Poor Sleep</td>\n",
       "      <td>Urban</td>\n",
       "      <td>[Poor Sleep]</td>\n",
       "      <td>1.063846</td>\n",
       "      <td>3.546154</td>\n",
       "    </tr>\n",
       "    <tr>\n",
       "      <th>2</th>\n",
       "      <td>18</td>\n",
       "      <td>Female</td>\n",
       "      <td>3.73</td>\n",
       "      <td>TV</td>\n",
       "      <td>True</td>\n",
       "      <td>0.32</td>\n",
       "      <td>Poor Sleep</td>\n",
       "      <td>Urban</td>\n",
       "      <td>[Poor Sleep]</td>\n",
       "      <td>0.904242</td>\n",
       "      <td>2.825758</td>\n",
       "    </tr>\n",
       "    <tr>\n",
       "      <th>3</th>\n",
       "      <td>15</td>\n",
       "      <td>Female</td>\n",
       "      <td>1.21</td>\n",
       "      <td>Laptop</td>\n",
       "      <td>False</td>\n",
       "      <td>0.39</td>\n",
       "      <td>NaN</td>\n",
       "      <td>Urban</td>\n",
       "      <td>[]</td>\n",
       "      <td>0.339496</td>\n",
       "      <td>0.870504</td>\n",
       "    </tr>\n",
       "    <tr>\n",
       "      <th>4</th>\n",
       "      <td>12</td>\n",
       "      <td>Female</td>\n",
       "      <td>5.89</td>\n",
       "      <td>Smartphone</td>\n",
       "      <td>True</td>\n",
       "      <td>0.49</td>\n",
       "      <td>Poor Sleep, Anxiety</td>\n",
       "      <td>Urban</td>\n",
       "      <td>[Poor Sleep, Anxiety]</td>\n",
       "      <td>1.936980</td>\n",
       "      <td>3.953020</td>\n",
       "    </tr>\n",
       "  </tbody>\n",
       "</table>\n",
       "</div>"
      ],
      "text/plain": [
       "   Age  Gender  Avg_Daily_Screen_Time_hr Primary_Device  \\\n",
       "0   14    Male                      3.99     Smartphone   \n",
       "1   11  Female                      4.61         Laptop   \n",
       "2   18  Female                      3.73             TV   \n",
       "3   15  Female                      1.21         Laptop   \n",
       "4   12  Female                      5.89     Smartphone   \n",
       "\n",
       "   Exceeded_Recommended_Limit  Educational_to_Recreational_Ratio  \\\n",
       "0                        True                               0.42   \n",
       "1                        True                               0.30   \n",
       "2                        True                               0.32   \n",
       "3                       False                               0.39   \n",
       "4                        True                               0.49   \n",
       "\n",
       "           Health_Impacts Urban_or_Rural       Health_Impacts_list  \\\n",
       "0  Poor Sleep, Eye Strain          Urban  [Poor Sleep, Eye Strain]   \n",
       "1              Poor Sleep          Urban              [Poor Sleep]   \n",
       "2              Poor Sleep          Urban              [Poor Sleep]   \n",
       "3                     NaN          Urban                        []   \n",
       "4     Poor Sleep, Anxiety          Urban     [Poor Sleep, Anxiety]   \n",
       "\n",
       "   educational_time_hrs  recreational_time_hrs  \n",
       "0              1.180141               2.809859  \n",
       "1              1.063846               3.546154  \n",
       "2              0.904242               2.825758  \n",
       "3              0.339496               0.870504  \n",
       "4              1.936980               3.953020  "
      ]
     },
     "execution_count": 36,
     "metadata": {},
     "output_type": "execute_result"
    }
   ],
   "source": [
    "df.head()"
   ]
  },
  {
   "cell_type": "code",
   "execution_count": 37,
   "id": "c3b876e9-c1ae-4eea-b6e5-dd3071b400ce",
   "metadata": {},
   "outputs": [
    {
     "name": "stdout",
     "output_type": "stream",
     "text": [
      "Proportion exceeding IAP guidelines: 85.77%\n"
     ]
    },
    {
     "data": {
      "text/plain": [
       "Age\n",
       "8     75.9%\n",
       "9     73.9%\n",
       "10    74.0%\n",
       "11    89.8%\n",
       "12    90.2%\n",
       "13    89.6%\n",
       "14    90.5%\n",
       "15    89.0%\n",
       "16    91.1%\n",
       "17    89.0%\n",
       "18    90.5%\n",
       "Name: Exceeded_Recommended_Limit, dtype: object"
      ]
     },
     "metadata": {},
     "output_type": "display_data"
    },
    {
     "data": {
      "image/png": "[encoded data removed]",
      "text/plain": [
       "<Figure size 640x480 with 1 Axes>"
      ]
     },
     "metadata": {},
     "output_type": "display_data"
    }
   ],
   "source": [
    "# Overall proportion exceeding IAP guidelines\n",
    "exceed_prop = df[\"Exceeded_Recommended_Limit\"].mean()\n",
    "print(f\"Proportion exceeding IAP guidelines: {exceed_prop:.2%}\")\n",
    "\n",
    "# Proportion by age\n",
    "exceed_by_age = df.groupby(\"Age\")[\"Exceeded_Recommended_Limit\"].mean()\n",
    "display((exceed_by_age*100).round(1).astype(str) + \"%\")\n",
    "\n",
    "# Plot\n",
    "plt.figure()\n",
    "exceed_by_age.plot(kind=\"bar\", color=\"skyblue\", edgecolor=\"black\")\n",
    "plt.title(\"Share Exceeding IAP Guidelines by Age\")\n",
    "plt.xlabel(\"Age\")\n",
    "plt.ylabel(\"% of children\")\n",
    "plt.show()\n"
   ]
  },
  {
   "cell_type": "markdown",
   "id": "d12ec62a-7a30-4416-a4be-c6530fca29df",
   "metadata": {},
   "source": [
    "***💡 3.e Is there a significant difference in screen time between urban and rural areas? ***"
   ]
  },
  {
   "cell_type": "code",
   "execution_count": 38,
   "id": "77901080-5838-492a-8eff-c667e0a5b708",
   "metadata": {},
   "outputs": [
    {
     "data": {
      "text/html": [
       "<div>\n",
       "<style scoped>\n",
       "    .dataframe tbody tr th:only-of-type {\n",
       "        vertical-align: middle;\n",
       "    }\n",
       "\n",
       "    .dataframe tbody tr th {\n",
       "        vertical-align: top;\n",
       "    }\n",
       "\n",
       "    .dataframe thead th {\n",
       "        text-align: right;\n",
       "    }\n",
       "</style>\n",
       "<table border=\"1\" class=\"dataframe\">\n",
       "  <thead>\n",
       "    <tr style=\"text-align: right;\">\n",
       "      <th></th>\n",
       "      <th>mean</th>\n",
       "      <th>median</th>\n",
       "      <th>count</th>\n",
       "    </tr>\n",
       "    <tr>\n",
       "      <th>Urban_or_Rural</th>\n",
       "      <th></th>\n",
       "      <th></th>\n",
       "      <th></th>\n",
       "    </tr>\n",
       "  </thead>\n",
       "  <tbody>\n",
       "    <tr>\n",
       "      <th>Rural</th>\n",
       "      <td>4.38</td>\n",
       "      <td>4.47</td>\n",
       "      <td>2858</td>\n",
       "    </tr>\n",
       "    <tr>\n",
       "      <th>Urban</th>\n",
       "      <td>4.36</td>\n",
       "      <td>4.43</td>\n",
       "      <td>6810</td>\n",
       "    </tr>\n",
       "  </tbody>\n",
       "</table>\n",
       "</div>"
      ],
      "text/plain": [
       "                mean  median  count\n",
       "Urban_or_Rural                     \n",
       "Rural           4.38    4.47   2858\n",
       "Urban           4.36    4.43   6810"
      ]
     },
     "metadata": {},
     "output_type": "display_data"
    },
    {
     "data": {
      "text/plain": [
       "<Figure size 500x300 with 0 Axes>"
      ]
     },
     "metadata": {},
     "output_type": "display_data"
    },
    {
     "data": {
      "image/png": "[encoded data removed]",
      "text/plain": [
       "<Figure size 640x480 with 1 Axes>"
      ]
     },
     "metadata": {},
     "output_type": "display_data"
    }
   ],
   "source": [
    "urb_rural = df.groupby(\"Urban_or_Rural\")[\"Avg_Daily_Screen_Time_hr\"].agg([\"mean\",\"median\",\"count\"])\n",
    "display(urb_rural.round(2))\n",
    "\n",
    "plt.figure(figsize=(5,3))\n",
    "df.boxplot(column=\"Avg_Daily_Screen_Time_hr\", by=\"Urban_or_Rural\")\n",
    "plt.title(\"Total Screen Time by Location\")\n",
    "plt.suptitle(\"\")\n",
    "plt.xlabel(\"Location\"); plt.ylabel(\"Hours/day\")\n",
    "plt.show()\n"
   ]
  },
  {
   "cell_type": "code",
   "execution_count": 39,
   "id": "64e1bfea-7aae-4631-b1dc-ce581c190e4e",
   "metadata": {},
   "outputs": [
    {
     "data": {
      "image/png": "[encoded data removed]",
      "text/plain": [
       "<Figure size 800x600 with 1 Axes>"
      ]
     },
     "metadata": {},
     "output_type": "display_data"
    }
   ],
   "source": [
    "#violinplot is another kind of box plot. more width more data\n",
    "plt.figure(figsize=(8,6))\n",
    "sns.violinplot(\n",
    "    x=\"Urban_or_Rural\", \n",
    "    y=\"Avg_Daily_Screen_Time_hr\", \n",
    "    data=df, \n",
    "    palette=\"Set2\", \n",
    "    inner=\"box\"  # shows a mini boxplot inside the violin\n",
    ")\n",
    "\n",
    "plt.title(\"Distribution of Total Screen Time by Location\", fontsize=14)\n",
    "plt.xlabel(\"Location\")\n",
    "plt.ylabel(\"Hours/day\")\n",
    "plt.show()\n"
   ]
  },
  {
   "cell_type": "markdown",
   "id": "42756542-13b0-403e-8ef0-1a721166ceb5",
   "metadata": {},
   "source": [
    "## 📌 Health Impacts\n",
    "- What percentage of children report poor sleep, eye strain, or anxiety?  \n",
    "- How do health issues correlate with excessive screen time?  \n",
    "- Which device is most strongly linked to health problems?  \n",
    "- Are rural children more affected by health issues compared to urban children?  \n",
    "- Does exceeding IAP guidelines significantly increase health risks?  "
   ]
  },
  {
   "cell_type": "markdown",
   "id": "819fcc7d-dffe-48b9-8e41-1a50119963bd",
   "metadata": {},
   "source": [
    "***💡 4.a What percentage of children report poor sleep, eye strain, or anxiety?***"
   ]
  },
  {
   "cell_type": "code",
   "execution_count": 40,
   "id": "7015fb9d-07aa-4f57-a3a9-ee7bb8e4f6d4",
   "metadata": {},
   "outputs": [
    {
     "data": {
      "text/html": [
       "<div>\n",
       "<style scoped>\n",
       "    .dataframe tbody tr th:only-of-type {\n",
       "        vertical-align: middle;\n",
       "    }\n",
       "\n",
       "    .dataframe tbody tr th {\n",
       "        vertical-align: top;\n",
       "    }\n",
       "\n",
       "    .dataframe thead th {\n",
       "        text-align: right;\n",
       "    }\n",
       "</style>\n",
       "<table border=\"1\" class=\"dataframe\">\n",
       "  <thead>\n",
       "    <tr style=\"text-align: right;\">\n",
       "      <th></th>\n",
       "      <th>Age</th>\n",
       "      <th>Gender</th>\n",
       "      <th>Avg_Daily_Screen_Time_hr</th>\n",
       "      <th>Primary_Device</th>\n",
       "      <th>Exceeded_Recommended_Limit</th>\n",
       "      <th>Educational_to_Recreational_Ratio</th>\n",
       "      <th>Health_Impacts</th>\n",
       "      <th>Urban_or_Rural</th>\n",
       "      <th>Health_Impacts_list</th>\n",
       "      <th>educational_time_hrs</th>\n",
       "      <th>recreational_time_hrs</th>\n",
       "    </tr>\n",
       "  </thead>\n",
       "  <tbody>\n",
       "    <tr>\n",
       "      <th>0</th>\n",
       "      <td>14</td>\n",
       "      <td>Male</td>\n",
       "      <td>3.99</td>\n",
       "      <td>Smartphone</td>\n",
       "      <td>True</td>\n",
       "      <td>0.42</td>\n",
       "      <td>Poor Sleep, Eye Strain</td>\n",
       "      <td>Urban</td>\n",
       "      <td>[Poor Sleep, Eye Strain]</td>\n",
       "      <td>1.180141</td>\n",
       "      <td>2.809859</td>\n",
       "    </tr>\n",
       "    <tr>\n",
       "      <th>1</th>\n",
       "      <td>11</td>\n",
       "      <td>Female</td>\n",
       "      <td>4.61</td>\n",
       "      <td>Laptop</td>\n",
       "      <td>True</td>\n",
       "      <td>0.30</td>\n",
       "      <td>Poor Sleep</td>\n",
       "      <td>Urban</td>\n",
       "      <td>[Poor Sleep]</td>\n",
       "      <td>1.063846</td>\n",
       "      <td>3.546154</td>\n",
       "    </tr>\n",
       "    <tr>\n",
       "      <th>2</th>\n",
       "      <td>18</td>\n",
       "      <td>Female</td>\n",
       "      <td>3.73</td>\n",
       "      <td>TV</td>\n",
       "      <td>True</td>\n",
       "      <td>0.32</td>\n",
       "      <td>Poor Sleep</td>\n",
       "      <td>Urban</td>\n",
       "      <td>[Poor Sleep]</td>\n",
       "      <td>0.904242</td>\n",
       "      <td>2.825758</td>\n",
       "    </tr>\n",
       "    <tr>\n",
       "      <th>3</th>\n",
       "      <td>15</td>\n",
       "      <td>Female</td>\n",
       "      <td>1.21</td>\n",
       "      <td>Laptop</td>\n",
       "      <td>False</td>\n",
       "      <td>0.39</td>\n",
       "      <td>NaN</td>\n",
       "      <td>Urban</td>\n",
       "      <td>[]</td>\n",
       "      <td>0.339496</td>\n",
       "      <td>0.870504</td>\n",
       "    </tr>\n",
       "    <tr>\n",
       "      <th>4</th>\n",
       "      <td>12</td>\n",
       "      <td>Female</td>\n",
       "      <td>5.89</td>\n",
       "      <td>Smartphone</td>\n",
       "      <td>True</td>\n",
       "      <td>0.49</td>\n",
       "      <td>Poor Sleep, Anxiety</td>\n",
       "      <td>Urban</td>\n",
       "      <td>[Poor Sleep, Anxiety]</td>\n",
       "      <td>1.936980</td>\n",
       "      <td>3.953020</td>\n",
       "    </tr>\n",
       "  </tbody>\n",
       "</table>\n",
       "</div>"
      ],
      "text/plain": [
       "   Age  Gender  Avg_Daily_Screen_Time_hr Primary_Device  \\\n",
       "0   14    Male                      3.99     Smartphone   \n",
       "1   11  Female                      4.61         Laptop   \n",
       "2   18  Female                      3.73             TV   \n",
       "3   15  Female                      1.21         Laptop   \n",
       "4   12  Female                      5.89     Smartphone   \n",
       "\n",
       "   Exceeded_Recommended_Limit  Educational_to_Recreational_Ratio  \\\n",
       "0                        True                               0.42   \n",
       "1                        True                               0.30   \n",
       "2                        True                               0.32   \n",
       "3                       False                               0.39   \n",
       "4                        True                               0.49   \n",
       "\n",
       "           Health_Impacts Urban_or_Rural       Health_Impacts_list  \\\n",
       "0  Poor Sleep, Eye Strain          Urban  [Poor Sleep, Eye Strain]   \n",
       "1              Poor Sleep          Urban              [Poor Sleep]   \n",
       "2              Poor Sleep          Urban              [Poor Sleep]   \n",
       "3                     NaN          Urban                        []   \n",
       "4     Poor Sleep, Anxiety          Urban     [Poor Sleep, Anxiety]   \n",
       "\n",
       "   educational_time_hrs  recreational_time_hrs  \n",
       "0              1.180141               2.809859  \n",
       "1              1.063846               3.546154  \n",
       "2              0.904242               2.825758  \n",
       "3              0.339496               0.870504  \n",
       "4              1.936980               3.953020  "
      ]
     },
     "execution_count": 40,
     "metadata": {},
     "output_type": "execute_result"
    }
   ],
   "source": [
    "df.head()"
   ]
  },
  {
   "cell_type": "code",
   "execution_count": 43,
   "id": "3e0e2436-70c9-4ee6-aef6-f2b5744cd46c",
   "metadata": {},
   "outputs": [
    {
     "name": "stdout",
     "output_type": "stream",
     "text": [
      "0                [Poor Sleep, Eye Strain]\n",
      "1                            [Poor Sleep]\n",
      "2                            [Poor Sleep]\n",
      "3                                      []\n",
      "4                   [Poor Sleep, Anxiety]\n",
      "                      ...                \n",
      "9707                         [Poor Sleep]\n",
      "9708                         [Poor Sleep]\n",
      "9709    [Poor Sleep, Eye Strain, Anxiety]\n",
      "9710                         [Poor Sleep]\n",
      "9711                            [Anxiety]\n",
      "Name: Health_Impacts_list, Length: 9668, dtype: object\n"
     ]
    }
   ],
   "source": [
    "print(df[\"Health_Impacts_list\"])"
   ]
  },
  {
   "cell_type": "code",
   "execution_count": 44,
   "id": "abdfae9d-37b4-48da-ba67-0972a64f5dfa",
   "metadata": {},
   "outputs": [
    {
     "name": "stdout",
     "output_type": "stream",
     "text": [
      "            prevalence  prevalence_%\n",
      "poor_sleep    0.502896          50.3\n",
      "eye_strain    0.246276          24.6\n",
      "anxiety       0.165908          16.6\n"
     ]
    }
   ],
   "source": [
    "# Ensure list-like values are parsed (if stored as strings in CSV)\n",
    "# If it's already a Python list type, you can skip eval.\n",
    "import ast\n",
    "\n",
    "if df[\"Health_Impacts_list\"].dtype == object:\n",
    "    df[\"Health_Impacts_list\"] = df[\"Health_Impacts_list\"].apply(\n",
    "        lambda x: ast.literal_eval(x) if isinstance(x, str) else x\n",
    "    )\n",
    "\n",
    "# Expand into separate boolean columns\n",
    "df[\"poor_sleep\"] = df[\"Health_Impacts_list\"].apply(lambda x: \"Poor Sleep\" in x)\n",
    "df[\"eye_strain\"] = df[\"Health_Impacts_list\"].apply(lambda x: \"Eye Strain\" in x)\n",
    "df[\"anxiety\"]    = df[\"Health_Impacts_list\"].apply(lambda x: \"Anxiety\" in x)\n",
    "\n",
    "# --- Prevalence ---\n",
    "health_prev = pd.DataFrame({\n",
    "    \"poor_sleep\": [df[\"poor_sleep\"].mean()],\n",
    "    \"eye_strain\": [df[\"eye_strain\"].mean()],\n",
    "    \"anxiety\":    [df[\"anxiety\"].mean()]\n",
    "}).T.rename(columns={0:\"prevalence\"})\n",
    "\n",
    "health_prev[\"prevalence_%\"] = (health_prev[\"prevalence\"]*100).round(1)\n",
    "print(health_prev)\n"
   ]
  },
  {
   "cell_type": "code",
   "execution_count": 45,
   "id": "6d4eea07-d6e2-4940-80fb-9f1ae979a083",
   "metadata": {},
   "outputs": [
    {
     "data": {
      "text/html": [
       "<div>\n",
       "<style scoped>\n",
       "    .dataframe tbody tr th:only-of-type {\n",
       "        vertical-align: middle;\n",
       "    }\n",
       "\n",
       "    .dataframe tbody tr th {\n",
       "        vertical-align: top;\n",
       "    }\n",
       "\n",
       "    .dataframe thead th {\n",
       "        text-align: right;\n",
       "    }\n",
       "</style>\n",
       "<table border=\"1\" class=\"dataframe\">\n",
       "  <thead>\n",
       "    <tr style=\"text-align: right;\">\n",
       "      <th></th>\n",
       "      <th>Age</th>\n",
       "      <th>Gender</th>\n",
       "      <th>Avg_Daily_Screen_Time_hr</th>\n",
       "      <th>Primary_Device</th>\n",
       "      <th>Exceeded_Recommended_Limit</th>\n",
       "      <th>Educational_to_Recreational_Ratio</th>\n",
       "      <th>Health_Impacts</th>\n",
       "      <th>Urban_or_Rural</th>\n",
       "      <th>Health_Impacts_list</th>\n",
       "      <th>educational_time_hrs</th>\n",
       "      <th>recreational_time_hrs</th>\n",
       "      <th>poor_sleep</th>\n",
       "      <th>eye_strain</th>\n",
       "      <th>anxiety</th>\n",
       "    </tr>\n",
       "  </thead>\n",
       "  <tbody>\n",
       "    <tr>\n",
       "      <th>0</th>\n",
       "      <td>14</td>\n",
       "      <td>Male</td>\n",
       "      <td>3.99</td>\n",
       "      <td>Smartphone</td>\n",
       "      <td>True</td>\n",
       "      <td>0.42</td>\n",
       "      <td>Poor Sleep, Eye Strain</td>\n",
       "      <td>Urban</td>\n",
       "      <td>[Poor Sleep, Eye Strain]</td>\n",
       "      <td>1.180141</td>\n",
       "      <td>2.809859</td>\n",
       "      <td>True</td>\n",
       "      <td>True</td>\n",
       "      <td>False</td>\n",
       "    </tr>\n",
       "    <tr>\n",
       "      <th>1</th>\n",
       "      <td>11</td>\n",
       "      <td>Female</td>\n",
       "      <td>4.61</td>\n",
       "      <td>Laptop</td>\n",
       "      <td>True</td>\n",
       "      <td>0.30</td>\n",
       "      <td>Poor Sleep</td>\n",
       "      <td>Urban</td>\n",
       "      <td>[Poor Sleep]</td>\n",
       "      <td>1.063846</td>\n",
       "      <td>3.546154</td>\n",
       "      <td>True</td>\n",
       "      <td>False</td>\n",
       "      <td>False</td>\n",
       "    </tr>\n",
       "    <tr>\n",
       "      <th>2</th>\n",
       "      <td>18</td>\n",
       "      <td>Female</td>\n",
       "      <td>3.73</td>\n",
       "      <td>TV</td>\n",
       "      <td>True</td>\n",
       "      <td>0.32</td>\n",
       "      <td>Poor Sleep</td>\n",
       "      <td>Urban</td>\n",
       "      <td>[Poor Sleep]</td>\n",
       "      <td>0.904242</td>\n",
       "      <td>2.825758</td>\n",
       "      <td>True</td>\n",
       "      <td>False</td>\n",
       "      <td>False</td>\n",
       "    </tr>\n",
       "    <tr>\n",
       "      <th>3</th>\n",
       "      <td>15</td>\n",
       "      <td>Female</td>\n",
       "      <td>1.21</td>\n",
       "      <td>Laptop</td>\n",
       "      <td>False</td>\n",
       "      <td>0.39</td>\n",
       "      <td>NaN</td>\n",
       "      <td>Urban</td>\n",
       "      <td>[]</td>\n",
       "      <td>0.339496</td>\n",
       "      <td>0.870504</td>\n",
       "      <td>False</td>\n",
       "      <td>False</td>\n",
       "      <td>False</td>\n",
       "    </tr>\n",
       "    <tr>\n",
       "      <th>4</th>\n",
       "      <td>12</td>\n",
       "      <td>Female</td>\n",
       "      <td>5.89</td>\n",
       "      <td>Smartphone</td>\n",
       "      <td>True</td>\n",
       "      <td>0.49</td>\n",
       "      <td>Poor Sleep, Anxiety</td>\n",
       "      <td>Urban</td>\n",
       "      <td>[Poor Sleep, Anxiety]</td>\n",
       "      <td>1.936980</td>\n",
       "      <td>3.953020</td>\n",
       "      <td>True</td>\n",
       "      <td>False</td>\n",
       "      <td>True</td>\n",
       "    </tr>\n",
       "  </tbody>\n",
       "</table>\n",
       "</div>"
      ],
      "text/plain": [
       "   Age  Gender  Avg_Daily_Screen_Time_hr Primary_Device  \\\n",
       "0   14    Male                      3.99     Smartphone   \n",
       "1   11  Female                      4.61         Laptop   \n",
       "2   18  Female                      3.73             TV   \n",
       "3   15  Female                      1.21         Laptop   \n",
       "4   12  Female                      5.89     Smartphone   \n",
       "\n",
       "   Exceeded_Recommended_Limit  Educational_to_Recreational_Ratio  \\\n",
       "0                        True                               0.42   \n",
       "1                        True                               0.30   \n",
       "2                        True                               0.32   \n",
       "3                       False                               0.39   \n",
       "4                        True                               0.49   \n",
       "\n",
       "           Health_Impacts Urban_or_Rural       Health_Impacts_list  \\\n",
       "0  Poor Sleep, Eye Strain          Urban  [Poor Sleep, Eye Strain]   \n",
       "1              Poor Sleep          Urban              [Poor Sleep]   \n",
       "2              Poor Sleep          Urban              [Poor Sleep]   \n",
       "3                     NaN          Urban                        []   \n",
       "4     Poor Sleep, Anxiety          Urban     [Poor Sleep, Anxiety]   \n",
       "\n",
       "   educational_time_hrs  recreational_time_hrs  poor_sleep  eye_strain  \\\n",
       "0              1.180141               2.809859        True        True   \n",
       "1              1.063846               3.546154        True       False   \n",
       "2              0.904242               2.825758        True       False   \n",
       "3              0.339496               0.870504       False       False   \n",
       "4              1.936980               3.953020        True       False   \n",
       "\n",
       "   anxiety  \n",
       "0    False  \n",
       "1    False  \n",
       "2    False  \n",
       "3    False  \n",
       "4     True  "
      ]
     },
     "execution_count": 45,
     "metadata": {},
     "output_type": "execute_result"
    }
   ],
   "source": [
    "df.head()"
   ]
  },
  {
   "cell_type": "markdown",
   "id": "9f5a5434-7c4b-4df7-800d-45606559d807",
   "metadata": {},
   "source": [
    "***💡 4.b How do health issues correlate with excessive screen time?***"
   ]
  },
  {
   "cell_type": "code",
   "execution_count": 46,
   "id": "8137c8c0-05af-4330-ba83-8d7bfc4f95a3",
   "metadata": {},
   "outputs": [
    {
     "data": {
      "text/html": [
       "<div>\n",
       "<style scoped>\n",
       "    .dataframe tbody tr th:only-of-type {\n",
       "        vertical-align: middle;\n",
       "    }\n",
       "\n",
       "    .dataframe tbody tr th {\n",
       "        vertical-align: top;\n",
       "    }\n",
       "\n",
       "    .dataframe thead th {\n",
       "        text-align: right;\n",
       "    }\n",
       "</style>\n",
       "<table border=\"1\" class=\"dataframe\">\n",
       "  <thead>\n",
       "    <tr style=\"text-align: right;\">\n",
       "      <th></th>\n",
       "      <th>poor_sleep</th>\n",
       "      <th>eye_strain</th>\n",
       "      <th>anxiety</th>\n",
       "    </tr>\n",
       "    <tr>\n",
       "      <th>Exceeded_Recommended_Limit</th>\n",
       "      <th></th>\n",
       "      <th></th>\n",
       "      <th></th>\n",
       "    </tr>\n",
       "  </thead>\n",
       "  <tbody>\n",
       "    <tr>\n",
       "      <th>Within IAP</th>\n",
       "      <td>0.0%</td>\n",
       "      <td>0.0%</td>\n",
       "      <td>0.0%</td>\n",
       "    </tr>\n",
       "    <tr>\n",
       "      <th>Exceeds IAP</th>\n",
       "      <td>58.6%</td>\n",
       "      <td>28.7%</td>\n",
       "      <td>19.3%</td>\n",
       "    </tr>\n",
       "  </tbody>\n",
       "</table>\n",
       "</div>"
      ],
      "text/plain": [
       "                           poor_sleep eye_strain anxiety\n",
       "Exceeded_Recommended_Limit                              \n",
       "Within IAP                       0.0%       0.0%    0.0%\n",
       "Exceeds IAP                     58.6%      28.7%   19.3%"
      ]
     },
     "metadata": {},
     "output_type": "display_data"
    }
   ],
   "source": [
    "# Compare prevalence among exceeders vs non-exceeders\n",
    "def health_table(col):\n",
    "    return df.groupby(\"Exceeded_Recommended_Limit\")[col].mean().rename(col)\n",
    "\n",
    "ht = pd.concat([health_table(\"poor_sleep\"),\n",
    "                health_table(\"eye_strain\"),\n",
    "                health_table(\"anxiety\")], axis=1)\n",
    "ht.index = ht.index.map({False:\"Within IAP\", True:\"Exceeds IAP\"})\n",
    "display((ht*100).round(1).astype(str) + \"%\")\n"
   ]
  },
  {
   "cell_type": "markdown",
   "id": "502e86ff-318a-47df-846d-c0a31d1db36b",
   "metadata": {},
   "source": [
    "***💡 4.c Which device is most strongly linked to health problems?***"
   ]
  },
  {
   "cell_type": "code",
   "execution_count": 47,
   "id": "7f245540-afcc-46d1-b3e7-2c902a2078ce",
   "metadata": {},
   "outputs": [
    {
     "data": {
      "text/html": [
       "<div>\n",
       "<style scoped>\n",
       "    .dataframe tbody tr th:only-of-type {\n",
       "        vertical-align: middle;\n",
       "    }\n",
       "\n",
       "    .dataframe tbody tr th {\n",
       "        vertical-align: top;\n",
       "    }\n",
       "\n",
       "    .dataframe thead th {\n",
       "        text-align: right;\n",
       "    }\n",
       "</style>\n",
       "<table border=\"1\" class=\"dataframe\">\n",
       "  <thead>\n",
       "    <tr style=\"text-align: right;\">\n",
       "      <th></th>\n",
       "      <th>poor_sleep</th>\n",
       "      <th>eye_strain</th>\n",
       "      <th>anxiety</th>\n",
       "    </tr>\n",
       "    <tr>\n",
       "      <th>Primary_Device</th>\n",
       "      <th></th>\n",
       "      <th></th>\n",
       "      <th></th>\n",
       "    </tr>\n",
       "  </thead>\n",
       "  <tbody>\n",
       "    <tr>\n",
       "      <th>Laptop</th>\n",
       "      <td>55.2%</td>\n",
       "      <td>27.7%</td>\n",
       "      <td>19.5%</td>\n",
       "    </tr>\n",
       "    <tr>\n",
       "      <th>Smartphone</th>\n",
       "      <td>50.7%</td>\n",
       "      <td>25.8%</td>\n",
       "      <td>16.4%</td>\n",
       "    </tr>\n",
       "    <tr>\n",
       "      <th>TV</th>\n",
       "      <td>47.5%</td>\n",
       "      <td>22.0%</td>\n",
       "      <td>15.7%</td>\n",
       "    </tr>\n",
       "    <tr>\n",
       "      <th>Tablet</th>\n",
       "      <td>48.5%</td>\n",
       "      <td>21.9%</td>\n",
       "      <td>15.8%</td>\n",
       "    </tr>\n",
       "  </tbody>\n",
       "</table>\n",
       "</div>"
      ],
      "text/plain": [
       "               poor_sleep eye_strain anxiety\n",
       "Primary_Device                              \n",
       "Laptop              55.2%      27.7%   19.5%\n",
       "Smartphone          50.7%      25.8%   16.4%\n",
       "TV                  47.5%      22.0%   15.7%\n",
       "Tablet              48.5%      21.9%   15.8%"
      ]
     },
     "metadata": {},
     "output_type": "display_data"
    },
    {
     "data": {
      "text/plain": [
       "<Figure size 640x480 with 0 Axes>"
      ]
     },
     "metadata": {},
     "output_type": "display_data"
    },
    {
     "data": {
      "image/png": "[encoded data removed]",
      "text/plain": [
       "<Figure size 640x480 with 1 Axes>"
      ]
     },
     "metadata": {},
     "output_type": "display_data"
    }
   ],
   "source": [
    "# Risk difference by device controlling for size via proportions\n",
    "by_device = df.groupby(\"Primary_Device\")[[\"poor_sleep\",\"eye_strain\",\"anxiety\"]].mean().sort_index()\n",
    "display((by_device*100).round(1).astype(str) + \"%\")\n",
    "\n",
    "plt.figure()\n",
    "by_device.plot(kind=\"bar\")\n",
    "plt.title(\"Health Issue Prevalence by Primary Device\")\n",
    "plt.xlabel(\"Device\"); plt.ylabel(\"Prevalence\")\n",
    "plt.show()\n"
   ]
  },
  {
   "cell_type": "markdown",
   "id": "b4809755-fec6-47d7-bebf-1b099e87e472",
   "metadata": {},
   "source": [
    "***💡 4.d Are rural children more affected by health issues compared to urban children?***"
   ]
  },
  {
   "cell_type": "code",
   "execution_count": 48,
   "id": "04002800-f3db-4336-a332-61305c9f72e9",
   "metadata": {},
   "outputs": [
    {
     "data": {
      "text/html": [
       "<div>\n",
       "<style scoped>\n",
       "    .dataframe tbody tr th:only-of-type {\n",
       "        vertical-align: middle;\n",
       "    }\n",
       "\n",
       "    .dataframe tbody tr th {\n",
       "        vertical-align: top;\n",
       "    }\n",
       "\n",
       "    .dataframe thead th {\n",
       "        text-align: right;\n",
       "    }\n",
       "</style>\n",
       "<table border=\"1\" class=\"dataframe\">\n",
       "  <thead>\n",
       "    <tr style=\"text-align: right;\">\n",
       "      <th></th>\n",
       "      <th>poor_sleep</th>\n",
       "      <th>eye_strain</th>\n",
       "      <th>anxiety</th>\n",
       "    </tr>\n",
       "    <tr>\n",
       "      <th>Urban_or_Rural</th>\n",
       "      <th></th>\n",
       "      <th></th>\n",
       "      <th></th>\n",
       "    </tr>\n",
       "  </thead>\n",
       "  <tbody>\n",
       "    <tr>\n",
       "      <th>Rural</th>\n",
       "      <td>50.0%</td>\n",
       "      <td>24.3%</td>\n",
       "      <td>16.9%</td>\n",
       "    </tr>\n",
       "    <tr>\n",
       "      <th>Urban</th>\n",
       "      <td>50.4%</td>\n",
       "      <td>24.8%</td>\n",
       "      <td>16.5%</td>\n",
       "    </tr>\n",
       "  </tbody>\n",
       "</table>\n",
       "</div>"
      ],
      "text/plain": [
       "               poor_sleep eye_strain anxiety\n",
       "Urban_or_Rural                              \n",
       "Rural               50.0%      24.3%   16.9%\n",
       "Urban               50.4%      24.8%   16.5%"
      ]
     },
     "metadata": {},
     "output_type": "display_data"
    }
   ],
   "source": [
    "health_loc = df.groupby(\"Urban_or_Rural\")[[\"poor_sleep\",\"eye_strain\",\"anxiety\"]].mean()\n",
    "display((health_loc*100).round(1).astype(str) + \"%\")\n"
   ]
  },
  {
   "cell_type": "markdown",
   "id": "972be0da-03a6-484e-b7f5-995948d12cf2",
   "metadata": {},
   "source": [
    "***💡 4.e Does exceeding IAP guidelines significantly increase health risks?***"
   ]
  },
  {
   "cell_type": "code",
   "execution_count": 49,
   "id": "4af823dc-224e-4719-a613-0a3a6c0a587c",
   "metadata": {},
   "outputs": [
    {
     "name": "stdout",
     "output_type": "stream",
     "text": [
      "Risk difference (Exceeds - Within) in percentage points:\n"
     ]
    },
    {
     "data": {
      "text/plain": [
       "poor_sleep    58.6\n",
       "eye_strain    28.7\n",
       "anxiety       19.3\n",
       "Name: True, dtype: float64"
      ]
     },
     "metadata": {},
     "output_type": "display_data"
    }
   ],
   "source": [
    "# Risk differences (percentage points)\n",
    "rd = (df.groupby(\"Exceeded_Recommended_Limit\")[[\"poor_sleep\",\"eye_strain\",\"anxiety\"]]\n",
    "        .mean().diff().loc[True]*100)\n",
    "print(\"Risk difference (Exceeds - Within) in percentage points:\")\n",
    "display(rd.round(1))\n"
   ]
  },
  {
   "cell_type": "markdown",
   "id": "2420504d-78ba-48ad-a50c-e2f92c5fa4d2",
   "metadata": {},
   "source": [
    "📌 Relationships & Trends¶\n",
    "What is the correlation between total screen time and age?\n",
    "Is there a gender-based trend in exceeding IAP guidelines?\n",
    "How do educational and recreational times interact (e.g., does more educational time reduce recreational time)?\n",
    "Can we identify clusters of children (e.g., high recreational users vs. balanced users)?"
   ]
  },
  {
   "cell_type": "markdown",
   "id": "25e29d27-d9e1-45a1-9474-aeef2aea0433",
   "metadata": {},
   "source": [
    "***💡 5.a What is the correlation between total screen time and age?***"
   ]
  },
  {
   "cell_type": "code",
   "execution_count": 50,
   "id": "10c9b1b7-6356-49c8-a39e-367706f5bb82",
   "metadata": {},
   "outputs": [
    {
     "name": "stdout",
     "output_type": "stream",
     "text": [
      "Correlation (age vs total screen time): 0.109\n"
     ]
    }
   ],
   "source": [
    "corr_age = df[[\"Age\",\"Avg_Daily_Screen_Time_hr\"]].corr().loc[\"Age\",\"Avg_Daily_Screen_Time_hr\"]\n",
    "print(f\"Correlation (age vs total screen time): {corr_age:.3f}\")\n"
   ]
  },
  {
   "cell_type": "markdown",
   "id": "c9859b30-5a89-43fe-8fe8-216c66ba6132",
   "metadata": {},
   "source": [
    "***💡 5.b Is there a gender-based trend in exceeding IAP guidelines?***"
   ]
  },
  {
   "cell_type": "code",
   "execution_count": 52,
   "id": "95388d4d-623b-43ea-8fb8-2f90e44f58bd",
   "metadata": {},
   "outputs": [
    {
     "data": {
      "text/plain": [
       "Gender\n",
       "Male      86.7%\n",
       "Female    84.8%\n",
       "Name: Exceeded_Recommended_Limit, dtype: object"
      ]
     },
     "metadata": {},
     "output_type": "display_data"
    },
    {
     "data": {
      "text/html": [
       "<div>\n",
       "<style scoped>\n",
       "    .dataframe tbody tr th:only-of-type {\n",
       "        vertical-align: middle;\n",
       "    }\n",
       "\n",
       "    .dataframe tbody tr th {\n",
       "        vertical-align: top;\n",
       "    }\n",
       "\n",
       "    .dataframe thead th {\n",
       "        text-align: right;\n",
       "    }\n",
       "</style>\n",
       "<table border=\"1\" class=\"dataframe\">\n",
       "  <thead>\n",
       "    <tr style=\"text-align: right;\">\n",
       "      <th>Gender</th>\n",
       "      <th>Female</th>\n",
       "      <th>Male</th>\n",
       "    </tr>\n",
       "    <tr>\n",
       "      <th>Age</th>\n",
       "      <th></th>\n",
       "      <th></th>\n",
       "    </tr>\n",
       "  </thead>\n",
       "  <tbody>\n",
       "    <tr>\n",
       "      <th>8</th>\n",
       "      <td>72.4</td>\n",
       "      <td>79.1</td>\n",
       "    </tr>\n",
       "    <tr>\n",
       "      <th>9</th>\n",
       "      <td>74.2</td>\n",
       "      <td>73.7</td>\n",
       "    </tr>\n",
       "    <tr>\n",
       "      <th>10</th>\n",
       "      <td>71.7</td>\n",
       "      <td>76.4</td>\n",
       "    </tr>\n",
       "    <tr>\n",
       "      <th>11</th>\n",
       "      <td>88.9</td>\n",
       "      <td>90.7</td>\n",
       "    </tr>\n",
       "    <tr>\n",
       "      <th>12</th>\n",
       "      <td>89.6</td>\n",
       "      <td>90.8</td>\n",
       "    </tr>\n",
       "    <tr>\n",
       "      <th>13</th>\n",
       "      <td>88.8</td>\n",
       "      <td>90.3</td>\n",
       "    </tr>\n",
       "    <tr>\n",
       "      <th>14</th>\n",
       "      <td>88.7</td>\n",
       "      <td>92.1</td>\n",
       "    </tr>\n",
       "    <tr>\n",
       "      <th>15</th>\n",
       "      <td>87.0</td>\n",
       "      <td>91.3</td>\n",
       "    </tr>\n",
       "    <tr>\n",
       "      <th>16</th>\n",
       "      <td>90.6</td>\n",
       "      <td>91.5</td>\n",
       "    </tr>\n",
       "    <tr>\n",
       "      <th>17</th>\n",
       "      <td>89.6</td>\n",
       "      <td>88.4</td>\n",
       "    </tr>\n",
       "    <tr>\n",
       "      <th>18</th>\n",
       "      <td>90.9</td>\n",
       "      <td>90.0</td>\n",
       "    </tr>\n",
       "  </tbody>\n",
       "</table>\n",
       "</div>"
      ],
      "text/plain": [
       "Gender  Female  Male\n",
       "Age                 \n",
       "8         72.4  79.1\n",
       "9         74.2  73.7\n",
       "10        71.7  76.4\n",
       "11        88.9  90.7\n",
       "12        89.6  90.8\n",
       "13        88.8  90.3\n",
       "14        88.7  92.1\n",
       "15        87.0  91.3\n",
       "16        90.6  91.5\n",
       "17        89.6  88.4\n",
       "18        90.9  90.0"
      ]
     },
     "metadata": {},
     "output_type": "display_data"
    }
   ],
   "source": [
    "exceed_gender = df.groupby(\"Gender\")[\"Exceeded_Recommended_Limit\"].mean().sort_values(ascending=False)\n",
    "display((exceed_gender*100).round(1).astype(str) + \"%\")\n",
    "\n",
    "# By age & gender\n",
    "exceed_age_gender = df.groupby([\"Age\",\"Gender\"])[\"Exceeded_Recommended_Limit\"].mean().unstack()\n",
    "display((exceed_age_gender*100).round(1))\n"
   ]
  },
  {
   "cell_type": "markdown",
   "id": "394993c4-d3f1-49e6-95bd-ac7327f310b5",
   "metadata": {},
   "source": [
    "***💡 5.c How do educational and recreational times interact (e.g., does more educational time reduce recreational time)?***"
   ]
  },
  {
   "cell_type": "code",
   "execution_count": 53,
   "id": "fbbca472-89d5-4675-9f40-ea9cf37f1b00",
   "metadata": {},
   "outputs": [
    {
     "name": "stdout",
     "output_type": "stream",
     "text": [
      "Correlation (educational vs recreational): 0.900\n"
     ]
    },
    {
     "data": {
      "image/png": "[encoded data removed]",
      "text/plain": [
       "<Figure size 640x480 with 1 Axes>"
      ]
     },
     "metadata": {},
     "output_type": "display_data"
    }
   ],
   "source": [
    "er_corr = df[[\"educational_time_hrs\",\"recreational_time_hrs\"]].corr().iloc[0,1]\n",
    "print(f\"Correlation (educational vs recreational): {er_corr:.3f}\")\n",
    "\n",
    "# Scatter (quick visual)\n",
    "plt.figure()\n",
    "plt.scatter(df[\"educational_time_hrs\"], df[\"recreational_time_hrs\"], alpha=0.5)\n",
    "plt.title(\"Educational vs Recreational Time\")\n",
    "plt.xlabel(\"Educational (hrs/day)\"); plt.ylabel(\"Recreational (hrs/day)\")\n",
    "plt.show()\n"
   ]
  },
  {
   "cell_type": "markdown",
   "id": "5c990a19-5264-46ab-944f-b283f7ef95fc",
   "metadata": {},
   "source": [
    "***💡 5.d Can we identify clusters of children (e.g., high recreational users vs. balanced users)?***"
   ]
  },
  {
   "cell_type": "code",
   "execution_count": 54,
   "id": "224cb19c-4ad6-4cb3-afe7-0abd6ace3b36",
   "metadata": {},
   "outputs": [
    {
     "data": {
      "text/html": [
       "<div>\n",
       "<style scoped>\n",
       "    .dataframe tbody tr th:only-of-type {\n",
       "        vertical-align: middle;\n",
       "    }\n",
       "\n",
       "    .dataframe tbody tr th {\n",
       "        vertical-align: top;\n",
       "    }\n",
       "\n",
       "    .dataframe thead tr th {\n",
       "        text-align: left;\n",
       "    }\n",
       "\n",
       "    .dataframe thead tr:last-of-type th {\n",
       "        text-align: right;\n",
       "    }\n",
       "</style>\n",
       "<table border=\"1\" class=\"dataframe\">\n",
       "  <thead>\n",
       "    <tr>\n",
       "      <th></th>\n",
       "      <th colspan=\"3\" halign=\"left\">Avg_Daily_Screen_Time_hr</th>\n",
       "      <th colspan=\"3\" halign=\"left\">educational_time_hrs</th>\n",
       "      <th colspan=\"3\" halign=\"left\">recreational_time_hrs</th>\n",
       "    </tr>\n",
       "    <tr>\n",
       "      <th></th>\n",
       "      <th>mean</th>\n",
       "      <th>median</th>\n",
       "      <th>count</th>\n",
       "      <th>mean</th>\n",
       "      <th>median</th>\n",
       "      <th>count</th>\n",
       "      <th>mean</th>\n",
       "      <th>median</th>\n",
       "      <th>count</th>\n",
       "    </tr>\n",
       "    <tr>\n",
       "      <th>cluster</th>\n",
       "      <th></th>\n",
       "      <th></th>\n",
       "      <th></th>\n",
       "      <th></th>\n",
       "      <th></th>\n",
       "      <th></th>\n",
       "      <th></th>\n",
       "      <th></th>\n",
       "      <th></th>\n",
       "    </tr>\n",
       "  </thead>\n",
       "  <tbody>\n",
       "    <tr>\n",
       "      <th>0</th>\n",
       "      <td>4.27</td>\n",
       "      <td>4.30</td>\n",
       "      <td>5361</td>\n",
       "      <td>1.24</td>\n",
       "      <td>1.23</td>\n",
       "      <td>5361</td>\n",
       "      <td>3.04</td>\n",
       "      <td>3.05</td>\n",
       "      <td>5361</td>\n",
       "    </tr>\n",
       "    <tr>\n",
       "      <th>1</th>\n",
       "      <td>6.37</td>\n",
       "      <td>6.08</td>\n",
       "      <td>2504</td>\n",
       "      <td>1.94</td>\n",
       "      <td>1.84</td>\n",
       "      <td>2504</td>\n",
       "      <td>4.43</td>\n",
       "      <td>4.29</td>\n",
       "      <td>2504</td>\n",
       "    </tr>\n",
       "    <tr>\n",
       "      <th>2</th>\n",
       "      <td>1.86</td>\n",
       "      <td>2.16</td>\n",
       "      <td>1803</td>\n",
       "      <td>0.56</td>\n",
       "      <td>0.65</td>\n",
       "      <td>1803</td>\n",
       "      <td>1.29</td>\n",
       "      <td>1.51</td>\n",
       "      <td>1803</td>\n",
       "    </tr>\n",
       "  </tbody>\n",
       "</table>\n",
       "</div>"
      ],
      "text/plain": [
       "        Avg_Daily_Screen_Time_hr              educational_time_hrs         \\\n",
       "                            mean median count                 mean median   \n",
       "cluster                                                                     \n",
       "0                           4.27   4.30  5361                 1.24   1.23   \n",
       "1                           6.37   6.08  2504                 1.94   1.84   \n",
       "2                           1.86   2.16  1803                 0.56   0.65   \n",
       "\n",
       "              recreational_time_hrs               \n",
       "        count                  mean median count  \n",
       "cluster                                           \n",
       "0        5361                  3.04   3.05  5361  \n",
       "1        2504                  4.43   4.29  2504  \n",
       "2        1803                  1.29   1.51  1803  "
      ]
     },
     "metadata": {},
     "output_type": "display_data"
    },
    {
     "data": {
      "image/png": "[encoded data removed]",
      "text/plain": [
       "<Figure size 640x480 with 1 Axes>"
      ]
     },
     "metadata": {},
     "output_type": "display_data"
    }
   ],
   "source": [
    "from sklearn.preprocessing import StandardScaler\n",
    "from sklearn.cluster import KMeans\n",
    "\n",
    "X = df[[\"Avg_Daily_Screen_Time_hr\",\"educational_time_hrs\",\"recreational_time_hrs\"]].dropna()\n",
    "sc = StandardScaler()\n",
    "Xs = sc.fit_transform(X)\n",
    "\n",
    "# Try k=3 clusters as a starting point\n",
    "km = KMeans(n_clusters=3, n_init=20, random_state=42)\n",
    "labels = km.fit_predict(Xs)\n",
    "\n",
    "Xc = X.copy()\n",
    "Xc[\"cluster\"] = labels\n",
    "\n",
    "cluster_profiles = Xc.groupby(\"cluster\").agg([\"mean\",\"median\",\"count\"])\n",
    "display(cluster_profiles.round(2))\n",
    "\n",
    "plt.figure()\n",
    "plt.scatter(Xc[\"educational_time_hrs\"], Xc[\"recreational_time_hrs\"], c=Xc[\"cluster\"], alpha=0.6)\n",
    "plt.title(\"Clusters in Edu vs Rec Time\")\n",
    "plt.xlabel(\"Educational (hrs/day)\"); plt.ylabel(\"Recreational (hrs/day)\")\n",
    "plt.show()\n"
   ]
  },
  {
   "cell_type": "markdown",
   "id": "cff50d8a-d5fd-4726-97ef-c70d7b8da0db",
   "metadata": {},
   "source": [
    "# Limit Extended limit by age"
   ]
  },
  {
   "cell_type": "code",
   "execution_count": 56,
   "id": "7c621913-cc7f-4897-85cf-73c5c0bb5cc4",
   "metadata": {},
   "outputs": [
    {
     "data": {
      "image/png": "[encoded data removed]",
      "text/plain": [
       "<Figure size 640x480 with 1 Axes>"
      ]
     },
     "metadata": {},
     "output_type": "display_data"
    }
   ],
   "source": [
    "Age_Exeeded_limit = df.groupby('Age')['Exceeded_Recommended_Limit'].sum()\n",
    "sns.regplot(x= Age_Exeeded_limit.index, y= Age_Exeeded_limit.values)\n",
    "\n",
    "plt.xlabel('Age')\n",
    "plt.ylabel(\"Exceeded limit count\")\n",
    "plt.title('Exceeded recommended limit by each age')\n",
    "\n",
    "plt.show()"
   ]
  },
  {
   "cell_type": "code",
   "execution_count": null,
   "id": "3313ae88-1021-4f64-85c0-8d21bb491544",
   "metadata": {},
   "outputs": [],
   "source": []
  }
 ],
 "metadata": {
  "kernelspec": {
   "display_name": "Python 3 (ipykernel)",
   "language": "python",
   "name": "python3"
  },
  "language_info": {
   "codemirror_mode": {
    "name": "ipython",
    "version": 3
   },
   "file_extension": ".py",
   "mimetype": "text/x-python",
   "name": "python",
   "nbconvert_exporter": "python",
   "pygments_lexer": "ipython3",
   "version": "3.11.7"
  }
 },
 "nbformat": 4,
 "nbformat_minor": 5
}
